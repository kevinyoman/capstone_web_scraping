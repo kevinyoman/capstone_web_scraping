{
 "cells": [
  {
   "cell_type": "markdown",
   "metadata": {},
   "source": [
    "# Capstone Webscrapping using BeautifulSoup\n",
    "\n",
    "This notebook contains guidances & tasks on the data processing for the application\n",
    "\n",
    "## Background\n",
    "\n",
    "This project is about scrap popular movie released in year 2021 from website imdb.com. Imdb, stands for internet movie database, is a site that give information about movie related in detail, like what is the movie genre, when movie released, who is director, stars played in a movie, some trivia and most importantly, user review and voting that give result into imdb rating.\n",
    "\n",
    "Most of people who want to watch movie in cinema, rent a DVD, or digital streaming service, they need to find review or watch trailer first before commit spent times and money. This is that will be provided by website imbd. Other than imbd, there are many similar website like rottentomatoes and metacritics.\n",
    "\n",
    "We will scrap several points: title, imdb rating, vote count and metascore. From these points, we want to ascertain if rating from imdb is representing a sample of populace distributely enough or bias. \n",
    "\n",
    "## Requesting the Data and Creating a BeautifulSoup\n",
    "\n",
    "Let's begin with requesting the web from the site with `get` method."
   ]
  },
  {
   "cell_type": "code",
   "execution_count": 3,
   "metadata": {
    "ExecuteTime": {
     "end_time": "2020-01-13T05:12:23.275508Z",
     "start_time": "2020-01-13T05:12:20.009898Z"
    }
   },
   "outputs": [],
   "source": [
    "import requests\n",
    "\n",
    "url_get = requests.get('https://www.imdb.com/search/title/?release_date=2021-01-01,2021-12-31&count=250')"
   ]
  },
  {
   "cell_type": "markdown",
   "metadata": {},
   "source": [
    "To visualize what exactly you get from the `request.get`, we can use .content so ee what we exactly get, in here i slice it so it won't make our screen full of the html we get from the page. You can delete the slicing if you want to see what we fully get."
   ]
  },
  {
   "cell_type": "code",
   "execution_count": 4,
   "metadata": {
    "ExecuteTime": {
     "end_time": "2020-01-13T05:12:23.290648Z",
     "start_time": "2020-01-13T05:12:23.277650Z"
    }
   },
   "outputs": [
    {
     "data": {
      "text/plain": [
       "b'\\n<!DOCTYPE html>\\n<html\\n    xmlns:og=\"http://ogp.me/ns#\"\\n    xmlns:fb=\"http://www.facebook.com/2008/fbml\">\\n    <head>\\n         \\n\\n        <meta charset=\"utf-8\">\\n\\n\\n\\n\\n        <script type=\"text/javascript\">var IMDbTimer={starttime: new Date().getTime(),pt:\\'java\\'};</script>\\n\\n<script>\\n    if (typeof uet == \\'function\\') {\\n      uet(\"bb\", \"LoadTitle\", {wb: 1});\\n    }\\n</script>\\n  <script>(function(t){ (t.events = t.events || {})[\"csm_head_pre_title\"] = new Date().getTime(); })(IMDbTimer);</script>\\n      '"
      ]
     },
     "execution_count": 4,
     "metadata": {},
     "output_type": "execute_result"
    }
   ],
   "source": [
    "url_get.content[1:500]"
   ]
  },
  {
   "cell_type": "markdown",
   "metadata": {},
   "source": [
    "As we can see we get a very unstructured and complex html, which actually contains the codes needed to show the webpages on your web browser. But we as human still confused what and where we can use that piece of code, so here where we use the beautifulsoup. Beautiful soup class will result a beautifulsoup object. Beautiful Soup transforms a complex HTML document into a complex tree of Python objects. \n",
    "\n",
    "Let's make Beautiful soup object and feel free to explore the object here."
   ]
  },
  {
   "cell_type": "code",
   "execution_count": 5,
   "metadata": {
    "ExecuteTime": {
     "end_time": "2020-01-13T05:12:23.808122Z",
     "start_time": "2020-01-13T05:12:23.292610Z"
    }
   },
   "outputs": [],
   "source": [
    "from bs4 import BeautifulSoup \n",
    "\n",
    "soup = BeautifulSoup(url_get.content,\"html.parser\")"
   ]
  },
  {
   "cell_type": "markdown",
   "metadata": {},
   "source": [
    "## Finding the right key to scrap the data & Extracting the right information"
   ]
  },
  {
   "cell_type": "markdown",
   "metadata": {},
   "source": [
    "Find the key and put the key into the `.find()` Put all the exploring the right key at this cell. (please change this markdown with your explanation)"
   ]
  },
  {
   "cell_type": "code",
   "execution_count": 6,
   "metadata": {
    "ExecuteTime": {
     "end_time": "2020-01-13T05:12:23.878904Z",
     "start_time": "2020-01-13T05:12:23.854974Z"
    }
   },
   "outputs": [
    {
     "name": "stdout",
     "output_type": "stream",
     "text": [
      "div class=\"lister-list\">\n",
      " <div class=\"lister-item mode-advanced\">\n",
      "  <div class=\"lister-top-right\">\n",
      "   <div class=\"ribbonize\" data-caller=\"filmosearch\" data-tconst=\"tt8179402\">\n",
      "   </div>\n",
      "  </div>\n",
      "  <div class=\"lister-item-image float-left\">\n",
      "   <a href=\"/title/tt8179402/\">\n",
      "    <img alt=\"Fate: The Winx Saga\" class=\"loadlate\" data-tconst=\"tt8179402\" height=\"98\" loadlate=\"https://m.media-amazon.com/images/M/MV5BMzEyYzBhODYtZjZlOC00MTM4LWIxMjQtMTRhZjA5ODM4ZWI2XkEyXkFqcGdeQXVyODQwODA1MjY@._V1_UY98_CR5\n"
     ]
    }
   ],
   "source": [
    "table = soup.find('div', attrs={'class':'lister-list'})\n",
    "print(table.prettify()[1:500])"
   ]
  },
  {
   "cell_type": "markdown",
   "metadata": {},
   "source": [
    "Finding row length."
   ]
  },
  {
   "cell_type": "code",
   "execution_count": 7,
   "metadata": {},
   "outputs": [],
   "source": [
    "#### judul , imdb rating , votes, dan metascore\n",
    "judul_all = table.find_all('h3', attrs={'class':'lister-item-header'})\n",
    "row_length = len(judul_all)\n",
    "\n",
    "metascore_bar = table.find_all('div', attrs={'class':'ratings-bar'})"
   ]
  },
  {
   "cell_type": "code",
   "execution_count": 8,
   "metadata": {},
   "outputs": [],
   "source": [
    "# debugging / testing code\n",
    "\n",
    "# judul_all[4].text.strip().split('\\n')[1]\n",
    "\n",
    "# imdb_rating = metascore_bar[0].find('meta', attrs={'itemprop':'ratingValue'})['content']\n",
    "# votes = metascore_bar[0].find('meta', attrs={'itemprop':'ratingCount'})['content']\n",
    "\n",
    "# find_metascore = metascore_bar[3].find_all('span', attrs={'class':'metascore favorable'})\n",
    "# metascore = find_metascore[0].text.strip() if (find_metascore) else 'missing' \n",
    "\n",
    "# genre_all = table.find_all('div', attrs={'class':'lister-item-content'})\n",
    "# genre = genre_all[2].find('span', attrs={'class':'genre'}).text.strip()"
   ]
  },
  {
   "cell_type": "code",
   "execution_count": 9,
   "metadata": {},
   "outputs": [],
   "source": [
    "#  jalan lain menuju roma\n",
    "# ratings_bar =  table.find('div', attrs={'class':'ratings-bar'})\n",
    "# imdb_rating = ratings_bar.find_all('div', attrs={'class':'ratings-imdb-rating'})[0]['data-value']"
   ]
  },
  {
   "cell_type": "markdown",
   "metadata": {},
   "source": [
    "Do the scrapping process here (please change this markdown with your explanation)"
   ]
  },
  {
   "cell_type": "code",
   "execution_count": 10,
   "metadata": {
    "ExecuteTime": {
     "end_time": "2020-01-13T05:12:24.008256Z",
     "start_time": "2020-01-13T05:12:23.980358Z"
    }
   },
   "outputs": [
    {
     "data": {
      "text/plain": [
       "[('Fate: The Winx Saga', '6.9', 'missing', '44041'),\n",
       " ('The White Lotus', '7.6', 'missing', '67245'),\n",
       " ('Only Murders in the Building', '8.1', 'missing', '95898'),\n",
       " ('Abbott Elementary', '8.2', 'missing', '13457'),\n",
       " ('The Black Phone', '7', '65', '111706'),\n",
       " ('Resident Alien', '8.1', 'missing', '39033'),\n",
       " ('American Horror Stories', '6.2', 'missing', '20679'),\n",
       " ('1883', '8.8', 'missing', '62998'),\n",
       " ('Reservation Dogs', '8.1', 'missing', '14448'),\n",
       " ('Spider-Man: No Way Home', '8.3', '71', '729364'),\n",
       " ('La scuola cattolica', '5.7', 'missing', '1726'),\n",
       " ('Dune: Part One', '8', '74', '613613'),\n",
       " ('Licorice Pizza', '7.2', '90', '105017'),\n",
       " ('Forsvinningen på Lørenskog', '6.1', 'missing', '816'),\n",
       " ('Dopesick', '8.6', 'missing', '54339'),\n",
       " (\"NCIS: Hawai'i\", '6.3', 'missing', '5507'),\n",
       " ('Mona Lisa and the Blood Moon', '6.2', '69', '923'),\n",
       " ('The Little Things', '6.3', 'missing', '99434'),\n",
       " ('Bloodlands', '6.6', 'missing', '5056'),\n",
       " ('Arcane: League of Legends', '9', 'missing', '197443'),\n",
       " ('Yellowjackets', '7.9', 'missing', '44758'),\n",
       " ('The Wheel of Time', '7.1', 'missing', '102267'),\n",
       " ('Sing 2', '7.4', 'missing', '65653'),\n",
       " ('No Time to Die', '7.3', '68', '389891'),\n",
       " ('The Matrix Resurrections', '5.7', '63', '242914'),\n",
       " ('Ojing-eo geim', '8', 'missing', '435854'),\n",
       " ('Snabba cash', '7.6', 'missing', '9155'),\n",
       " ('House of Gucci', '6.6', 'missing', '129614'),\n",
       " ('Last Night in Soho', '7.1', '65', '130031'),\n",
       " ('Hacks', '8.2', 'missing', '28638'),\n",
       " ('Ghosts', '7.8', 'missing', '14678'),\n",
       " ('Law & Order: Organized Crime', '7.7', 'missing', '7057'),\n",
       " ('Ghostbusters: Afterlife', '7.1', 'missing', '176038'),\n",
       " ('La Brea', '5.6', 'missing', '10164'),\n",
       " ('Pleasure', '6.3', '75', '14980'),\n",
       " ('Gekijouban Jujutsu Kaisen 0', '7.9', '71', '14277'),\n",
       " ('Eternals', '6.3', 'missing', '333148'),\n",
       " ('Mare of Easttown', '8.4', 'missing', '151903'),\n",
       " ('Midnight Mass', '7.7', 'missing', '111282'),\n",
       " ('The Book of Boba Fett', '7.3', 'missing', '144095'),\n",
       " ('Home Economics', '6.7', 'missing', '3962'),\n",
       " ('Shadow and Bone', '7.6', 'missing', '82869'),\n",
       " (\"Don't Look Up\", '7.2', 'missing', '526104'),\n",
       " ('Loki', '8.2', 'missing', '305998'),\n",
       " ('FBI: International', '6.3', 'missing', '3874'),\n",
       " ('Spencer', '6.6', '76', '65897'),\n",
       " ('Sex/Life', '5.4', 'missing', '21134'),\n",
       " ('The Last Duel', '7.4', '67', '151926'),\n",
       " ('Free Guy', '7.1', '62', '360897'),\n",
       " ('Old', '5.8', 'missing', '116683'),\n",
       " ('Black Widow', '6.7', '67', '369735'),\n",
       " ('The Suicide Squad', '7.2', '72', '342887'),\n",
       " ('Chucky', '7.3', 'missing', '18175'),\n",
       " ('Power Book III: Raising Kanan', '7.4', 'missing', '4052'),\n",
       " ('Encanto', '7.2', '75', '214533'),\n",
       " ('Belfast', '7.3', '75', '69912'),\n",
       " ('WandaVision', '7.9', 'missing', '315645'),\n",
       " ('The Sex Lives of College Girls', '7.8', 'missing', '15715'),\n",
       " ('Invincible', '8.7', 'missing', '131592'),\n",
       " (\"The King's Man\", '6.3', 'missing', '141782'),\n",
       " ('CODA', '8', '74', '125937'),\n",
       " ('Nine Perfect Strangers', '7', 'missing', '49055'),\n",
       " ('Nobody', '7.4', '64', '243112'),\n",
       " ('Verdens verste menneske', '7.8', '90', '60503'),\n",
       " ('Chhello Show', '7.2', 'missing', '576'),\n",
       " ('Nightmare Alley', '7', '70', '138057'),\n",
       " ('The Guilty', '6.3', '63', '122261'),\n",
       " ('Kevin Can F**k Himself', '7', 'missing', '8394'),\n",
       " ('Professor T', '6.9', 'missing', '2970'),\n",
       " ('Wrath of Man', '7.1', 'missing', '173463'),\n",
       " (\"Zack Snyder's Justice League\", '8', 'missing', '390438'),\n",
       " ('Bisang seoneon', '7', '70', '2423'),\n",
       " ('Halloween Kills', '5.5', 'missing', '78013'),\n",
       " ('Infinite', '5.4', 'missing', '49518'),\n",
       " ('The Voyeurs', '6', 'missing', '21424'),\n",
       " ('The French Dispatch', '7.2', '74', '117371'),\n",
       " ('Superman & Lois', '7.8', 'missing', '31992'),\n",
       " ('The Outlaws', '7.7', 'missing', '11292'),\n",
       " ('Mayor of Kingstown', '8.2', 'missing', '23036'),\n",
       " ('Foundation', '7.4', 'missing', '57650'),\n",
       " ('Operation Mincemeat', '6.6', '65', '22403'),\n",
       " ('Red Rocket', '7.2', '76', '22615'),\n",
       " ('Shang-Chi and the Legend of the Ten Rings', '7.4', '71', '372601'),\n",
       " ('Hawkeye', '7.5', 'missing', '176185'),\n",
       " ('F9', '5.2', 'missing', '130121'),\n",
       " ('West Side Story', '7.2', '85', '80192'),\n",
       " ('Station Eleven', '7.6', 'missing', '25137'),\n",
       " ('De uskyldige', '7', '79', '12048'),\n",
       " ('CSI: Vegas', '7.5', 'missing', '5960'),\n",
       " ('Cruella', '7.3', 'missing', '230018'),\n",
       " ('Dexter: New Blood', '8.1', 'missing', '86350'),\n",
       " ('The Forgiven', '5.9', 'missing', '3415'),\n",
       " ('After We Fell', '4.6', 'missing', '14375'),\n",
       " ('The Power of the Dog', '6.8', '89', '170069'),\n",
       " ('The Prince', '5.5', 'missing', '2835'),\n",
       " ('The Many Saints of Newark', '6.3', 'missing', '53574'),\n",
       " ('Behind Her Eyes', '7.2', 'missing', '61037'),\n",
       " ('Malignant', '6.2', 'missing', '87881'),\n",
       " ('Maid', '8.4', 'missing', '81252'),\n",
       " ('Venom: Let There Be Carnage', '5.9', 'missing', '218949'),\n",
       " ('Mortal Kombat', '6.1', 'missing', '171229'),\n",
       " ('The Nevers', '7.4', 'missing', '23399'),\n",
       " ('Red Notice', '6.3', 'missing', '270615'),\n",
       " ('Walker', '6', 'missing', '11607'),\n",
       " ('Candyman', '5.9', '72', '63463'),\n",
       " ('Girl in the Basement', '6.3', 'missing', '7591'),\n",
       " ('What If...?', '7.4', 'missing', '111413'),\n",
       " ('The Tomorrow War', '6.5', 'missing', '203014'),\n",
       " ('And Just Like That...', '5.6', 'missing', '27232'),\n",
       " ('Marcel the Shell with Shoes On', '8', '81', '5087'),\n",
       " ('Star Wars: The Bad Batch', '7.8', 'missing', '32298'),\n",
       " ('Those Who Wish Me Dead', '6', 'missing', '60286'),\n",
       " ('Lamb', '6.3', '68', '26823'),\n",
       " ('Fear Street: 1994', '6.2', '67', '79806'),\n",
       " ('The Green Knight', '6.6', '85', '98531'),\n",
       " ('The Mighty Ducks: Game Changers', '7.4', 'missing', '4742'),\n",
       " ('Ginny & Georgia', '7.4', 'missing', '48176'),\n",
       " ('King Richard', '7.5', '76', '107320'),\n",
       " ('The Serpent', '7.6', 'missing', '43263'),\n",
       " ('The Falcon and the Winter Soldier', '7.2', 'missing', '215006'),\n",
       " ('Mad God', '6.8', '80', '7209'),\n",
       " ('The Unforgivable', '7.1', 'missing', '107835'),\n",
       " ('The Equalizer', '5.2', 'missing', '12631'),\n",
       " ('The Fallout', '7', '84', '16531'),\n",
       " ('Resident Evil: Welcome to Raccoon City', '5.2', 'missing', '52462'),\n",
       " ('The Retaliators', '5.5', 'missing', '335'),\n",
       " ('Army of the Dead', '5.7', 'missing', '171403'),\n",
       " ('Godzilla vs. Kong', '6.3', 'missing', '205714'),\n",
       " ('Cowboy Bebop', '6.7', 'missing', '39478'),\n",
       " ('Leonardo', '7.2', 'missing', '3423'),\n",
       " ('The Harder They Fall', '6.5', '68', '61800'),\n",
       " ('Copshop', '6.2', '61', '30900'),\n",
       " ('Old Henry', '7.2', '69', '24861'),\n",
       " ('No Sudden Move', '6.4', '76', '34492'),\n",
       " ('Jungle Cruise', '6.6', 'missing', '185217'),\n",
       " ('Skyggen i mit øje', '7.3', 'missing', '11091'),\n",
       " (\"He's All That\", '4.4', 'missing', '24883'),\n",
       " (\"Clarkson's Farm\", '9', 'missing', '35619'),\n",
       " ('The Lost Daughter', '6.7', '86', '62930'),\n",
       " ('The Card Counter', '6.2', '77', '33439'),\n",
       " ('Competencia oficial', '7.1', '79', '7212'),\n",
       " ('Tunna blå linjen', '8.1', 'missing', '4111'),\n",
       " ('Cinderella', '4.2', 'missing', '41872'),\n",
       " ('The Eyes of Tammy Faye', '6.6', 'missing', '31975'),\n",
       " ('Invasion', '6', 'missing', '27073'),\n",
       " ('Pig', '6.9', '82', '71941'),\n",
       " ('Luca', '7.4', '71', '159468'),\n",
       " ('Boiling Point', '7.5', '73', '23508'),\n",
       " ('Them', '7.3', 'missing', '19488'),\n",
       " (\"We're All Going to the World's Fair\", '5.3', '78', '2590'),\n",
       " ('Firebird', '7.1', 'missing', '8820'),\n",
       " ('tick, tick...BOOM!', '7.5', '74', '103697'),\n",
       " ('Ku bei', '6.5', '68', '10880'),\n",
       " ('Lupin', '7.5', 'missing', '105450'),\n",
       " ('True Story', '7.4', 'missing', '18383'),\n",
       " ('The Wheel of Time: Origins', '7', 'missing', '10018'),\n",
       " ('The Hating Game', '6.2', 'missing', '15792'),\n",
       " ('Raya and the Last Dragon', '7.3', '75', '149167'),\n",
       " ('Army of Thieves', '6.4', 'missing', '76001'),\n",
       " ('Inside Job', '7.6', 'missing', '17735'),\n",
       " ('Titane', '6.6', '75', '44223'),\n",
       " ('Maharani', '7.9', 'missing', '7911'),\n",
       " ('The Conjuring: The Devil Made Me Do It', '6.3', 'missing', '112742'),\n",
       " ('Stillwater', '6.6', 'missing', '42542'),\n",
       " ('Way Down', '6.4', 'missing', '25184'),\n",
       " ('The Protégé', '6.1', 'missing', '31842'),\n",
       " ('Wrong Turn', '5.5', 'missing', '30721'),\n",
       " ('American Underdog', '7.1', 'missing', '14129'),\n",
       " ('Benedetta', '6.7', '73', '18723'),\n",
       " ('Wolf', '5.5', 'missing', '11594'),\n",
       " (\"Hitman's Wife's Bodyguard\", '6.1', 'missing', '91008'),\n",
       " ('The Electrical Life of Louis Wain', '6.8', '63', '13991'),\n",
       " ('Leverage: Redemption', '8.3', 'missing', '17719'),\n",
       " ('Doraibu mai kâ', '7.6', '91', '47631'),\n",
       " ('Stay Close', '6.9', 'missing', '31321'),\n",
       " ('Gossip Girl', '5.3', 'missing', '11225'),\n",
       " ('Things Heard & Seen', '5.3', 'missing', '31454'),\n",
       " ('Cry Macho', '5.7', 'missing', '26861'),\n",
       " ('Finch', '6.8', 'missing', '81206'),\n",
       " ('Chaos Walking', '5.7', 'missing', '47961'),\n",
       " ('One of Us Is Lying', '6.8', 'missing', '8966'),\n",
       " ('Antlers', '5.9', 'missing', '36667'),\n",
       " ('Physical', '7.3', 'missing', '9229'),\n",
       " ('The Tender Bar', '6.7', 'missing', '27661'),\n",
       " ('Fear Street: 1978', '6.7', '61', '62876'),\n",
       " ('Last Looks', '5.7', 'missing', '7017'),\n",
       " ('Midnight in the Switchgrass', '4.4', 'missing', '7631'),\n",
       " ('Reminiscence', '5.8', 'missing', '55197'),\n",
       " ('Eight for Silver', '6.2', '62', '10429'),\n",
       " ('The Tragedy of Macbeth', '7.1', '87', '33359'),\n",
       " ('Nordsjøen', '6.3', 'missing', '4250'),\n",
       " (\"Don't Breathe 2\", '6', 'missing', '55684'),\n",
       " ('In the Heights', '7.3', '84', '46766'),\n",
       " (\"C'mon C'mon\", '7.4', '82', '28770'),\n",
       " ('No One Gets Out Alive', '5.3', 'missing', '16063'),\n",
       " ('Intrusion', '5.2', 'missing', '17118'),\n",
       " ('Dear Evan Hansen', '6.1', 'missing', '14492'),\n",
       " ('Sweet Tooth', '7.8', 'missing', '51238'),\n",
       " ('Dogs in Space', '7.1', 'missing', '708'),\n",
       " ('Binsenjo', '8.4', 'missing', '17728'),\n",
       " ('The Woman in the Window', '5.7', 'missing', '74566'),\n",
       " ('Kate', '6.2', 'missing', '61129'),\n",
       " ('Silent Night', '5.7', 'missing', '12774'),\n",
       " ('Escape Room: Tournament of Champions', '5.7', 'missing', '44531'),\n",
       " ('The Good House', '7.2', '62', '84'),\n",
       " ('Saloum', '6.3', '78', '972'),\n",
       " ('Scenes from a Marriage', '8', 'missing', '22050'),\n",
       " ('iCarly', '6.6', 'missing', '4748'),\n",
       " ('Joe Pickett', '7.6', 'missing', '2589'),\n",
       " ('Voyagers', '5.4', 'missing', '21044'),\n",
       " ('Dr. Death', '7.6', 'missing', '12494'),\n",
       " ('Land of Dreams', '5.3', 'missing', '207'),\n",
       " ('Ryû to sobakasu no hime', '7.1', '83', '11098'),\n",
       " ('Grace', '7.2', 'missing', '4102'),\n",
       " ('Judas and the Black Messiah', '7.4', '85', '78083'),\n",
       " ('Aftermath', '5.3', 'missing', '16078'),\n",
       " ('The Chestnut Man', '7.7', 'missing', '44475'),\n",
       " ('Munich: The Edge of War', '6.8', 'missing', '29963'),\n",
       " ('Tides', '5.4', 'missing', '9242'),\n",
       " ('Brand New Cherry Flavor', '7.1', 'missing', '15509'),\n",
       " ('Made for Love', '6.9', 'missing', '10842'),\n",
       " ('The Beatles: Get Back', '9', 'missing', '21987'),\n",
       " ('Firefly Lane', '7.4', 'missing', '21336'),\n",
       " ('Spiral: From the Book of Saw', '5.2', 'missing', '52685'),\n",
       " ('Cruel Summer', '7.4', 'missing', '14281'),\n",
       " ('The Twelve', '6.6', 'missing', '634'),\n",
       " (\"There's Someone Inside Your House\", '4.8', 'missing', '16118'),\n",
       " (\"Willy's Wonderland\", '5.5', 'missing', '28826'),\n",
       " ('The Phantom of the Open', '7', '65', '3253'),\n",
       " ('The Mitchells vs the Machines', '7.6', '81', '106853'),\n",
       " ('Till Death', '5.8', '66', '21274'),\n",
       " ('I Am All Girls', '5.9', 'missing', '6160'),\n",
       " ('The Falconer', '6.2', 'missing', '76'),\n",
       " ('The North Water', '7.6', 'missing', '12726'),\n",
       " ('The Rescue', '8.3', '84', '15665'),\n",
       " ('Gunpowder Milkshake', '6', 'missing', '43902'),\n",
       " ('Cherry', '6.6', 'missing', '32118'),\n",
       " (' Hannah Swensen Mysteries (2021– )', '6.9', 'missing', '316'),\n",
       " ('Young Royals', '8.3', 'missing', '30157'),\n",
       " ('Night Teeth', '5.6', 'missing', '18335'),\n",
       " ('The Dig', '7.1', '73', '74350'),\n",
       " ('Bajocero', '6.2', 'missing', '19546'),\n",
       " ('Vigil', '7.4', 'missing', '20686'),\n",
       " ('Deceit', '7', 'missing', '5395'),\n",
       " ('The Forever Purge', '5.4', 'missing', '33403'),\n",
       " ('What Josiah Saw', '6.2', '70', '1612'),\n",
       " ('Love Hard', '6.3', 'missing', '51026'),\n",
       " (\"Dota: Dragon's Blood\", '7.8', 'missing', '19157'),\n",
       " ('The Shrink Next Door', '7.1', 'missing', '12428'),\n",
       " ('The Starling', '6.3', 'missing', '13124')]"
      ]
     },
     "execution_count": 10,
     "metadata": {},
     "output_type": "execute_result"
    }
   ],
   "source": [
    "temp = [] #initiating a tuple\n",
    "\n",
    "for i in range(0, row_length):\n",
    "    #scrapping process\n",
    "    judul = judul_all[i].text.strip().split('\\n')[1]\n",
    "\n",
    "    imdb_rating = metascore_bar[i].find('meta', attrs={'itemprop':'ratingValue'})['content']\n",
    "    votes = metascore_bar[i].find('meta', attrs={'itemprop':'ratingCount'})['content']\n",
    "\n",
    "    find_metascore = metascore_bar[i].find_all('span', attrs={'class':'metascore favorable'})\n",
    "    metascore = find_metascore[0].text.strip() if (find_metascore) else 'missing' \n",
    "    \n",
    "    temp.append((judul,imdb_rating,metascore,votes))\n",
    "temp "
   ]
  },
  {
   "cell_type": "markdown",
   "metadata": {},
   "source": [
    "## Creating data frame & Data wrangling"
   ]
  },
  {
   "cell_type": "markdown",
   "metadata": {},
   "source": [
    "Put the array into dataframe"
   ]
  },
  {
   "cell_type": "code",
   "execution_count": 11,
   "metadata": {
    "ExecuteTime": {
     "end_time": "2020-01-13T05:12:41.517372Z",
     "start_time": "2020-01-13T05:12:29.130015Z"
    }
   },
   "outputs": [],
   "source": [
    "import pandas as pd\n",
    "col_movie = ['title','imdb','metascore','votes']\n",
    "df = pd.DataFrame(temp,columns=col_movie)"
   ]
  },
  {
   "cell_type": "markdown",
   "metadata": {},
   "source": [
    "Initially, we will sort best 7 `title` based on `imdb` rating"
   ]
  },
  {
   "cell_type": "code",
   "execution_count": 13,
   "metadata": {},
   "outputs": [
    {
     "data": {
      "text/html": [
       "<div>\n",
       "<style scoped>\n",
       "    .dataframe tbody tr th:only-of-type {\n",
       "        vertical-align: middle;\n",
       "    }\n",
       "\n",
       "    .dataframe tbody tr th {\n",
       "        vertical-align: top;\n",
       "    }\n",
       "\n",
       "    .dataframe thead th {\n",
       "        text-align: right;\n",
       "    }\n",
       "</style>\n",
       "<table border=\"1\" class=\"dataframe\">\n",
       "  <thead>\n",
       "    <tr style=\"text-align: right;\">\n",
       "      <th></th>\n",
       "      <th>title</th>\n",
       "      <th>imdb</th>\n",
       "      <th>metascore</th>\n",
       "      <th>votes</th>\n",
       "    </tr>\n",
       "  </thead>\n",
       "  <tbody>\n",
       "    <tr>\n",
       "      <th>137</th>\n",
       "      <td>Clarkson's Farm</td>\n",
       "      <td>9</td>\n",
       "      <td>missing</td>\n",
       "      <td>35619</td>\n",
       "    </tr>\n",
       "    <tr>\n",
       "      <th>221</th>\n",
       "      <td>The Beatles: Get Back</td>\n",
       "      <td>9</td>\n",
       "      <td>missing</td>\n",
       "      <td>21987</td>\n",
       "    </tr>\n",
       "    <tr>\n",
       "      <th>19</th>\n",
       "      <td>Arcane: League of Legends</td>\n",
       "      <td>9</td>\n",
       "      <td>missing</td>\n",
       "      <td>197443</td>\n",
       "    </tr>\n",
       "    <tr>\n",
       "      <th>7</th>\n",
       "      <td>1883</td>\n",
       "      <td>8.8</td>\n",
       "      <td>missing</td>\n",
       "      <td>62998</td>\n",
       "    </tr>\n",
       "    <tr>\n",
       "      <th>58</th>\n",
       "      <td>Invincible</td>\n",
       "      <td>8.7</td>\n",
       "      <td>missing</td>\n",
       "      <td>131592</td>\n",
       "    </tr>\n",
       "    <tr>\n",
       "      <th>14</th>\n",
       "      <td>Dopesick</td>\n",
       "      <td>8.6</td>\n",
       "      <td>missing</td>\n",
       "      <td>54339</td>\n",
       "    </tr>\n",
       "    <tr>\n",
       "      <th>98</th>\n",
       "      <td>Maid</td>\n",
       "      <td>8.4</td>\n",
       "      <td>missing</td>\n",
       "      <td>81252</td>\n",
       "    </tr>\n",
       "  </tbody>\n",
       "</table>\n",
       "</div>"
      ],
      "text/plain": [
       "                         title imdb metascore   votes\n",
       "137            Clarkson's Farm    9   missing   35619\n",
       "221      The Beatles: Get Back    9   missing   21987\n",
       "19   Arcane: League of Legends    9   missing  197443\n",
       "7                         1883  8.8   missing   62998\n",
       "58                  Invincible  8.7   missing  131592\n",
       "14                    Dopesick  8.6   missing   54339\n",
       "98                        Maid  8.4   missing   81252"
      ]
     },
     "execution_count": 13,
     "metadata": {},
     "output_type": "execute_result"
    }
   ],
   "source": [
    "df.sort_values('imdb',ascending=False).head(7)"
   ]
  },
  {
   "cell_type": "markdown",
   "metadata": {
    "ExecuteTime": {
     "end_time": "2020-01-13T05:12:59.165559Z",
     "start_time": "2020-01-13T05:12:58.910012Z"
    }
   },
   "source": [
    "In this step, we want to compare imdb rating with metascore. So, we won't use movie that doesn't have metascore by excluding `missing`. "
   ]
  },
  {
   "cell_type": "code",
   "execution_count": 27,
   "metadata": {},
   "outputs": [],
   "source": [
    "df_clean = df[df['metascore'] != 'missing']"
   ]
  },
  {
   "cell_type": "markdown",
   "metadata": {},
   "source": [
    "Next, we need to normalize both rating by using scale 1 to 10. \n",
    "Currently, imdb's scale is 1 to 100 and need to be normalized. \n",
    "Before normalizing, we need to change metascore and imdb's data types into numeric"
   ]
  },
  {
   "cell_type": "code",
   "execution_count": 30,
   "metadata": {},
   "outputs": [
    {
     "name": "stderr",
     "output_type": "stream",
     "text": [
      "C:\\Users\\62857\\anaconda3\\envs\\python_38\\lib\\site-packages\\pandas\\core\\frame.py:3641: SettingWithCopyWarning: \n",
      "A value is trying to be set on a copy of a slice from a DataFrame.\n",
      "Try using .loc[row_indexer,col_indexer] = value instead\n",
      "\n",
      "See the caveats in the documentation: https://pandas.pydata.org/pandas-docs/stable/user_guide/indexing.html#returning-a-view-versus-a-copy\n",
      "  self[k1] = value[k2]\n",
      "C:\\Users\\62857\\AppData\\Local\\Temp\\ipykernel_16640\\2339167677.py:3: SettingWithCopyWarning: \n",
      "A value is trying to be set on a copy of a slice from a DataFrame.\n",
      "Try using .loc[row_indexer,col_indexer] = value instead\n",
      "\n",
      "See the caveats in the documentation: https://pandas.pydata.org/pandas-docs/stable/user_guide/indexing.html#returning-a-view-versus-a-copy\n",
      "  df_clean['metascore'] = df_clean['metascore'] / 10\n",
      "C:\\Users\\62857\\AppData\\Local\\Temp\\ipykernel_16640\\2339167677.py:4: SettingWithCopyWarning: \n",
      "A value is trying to be set on a copy of a slice from a DataFrame.\n",
      "Try using .loc[row_indexer,col_indexer] = value instead\n",
      "\n",
      "See the caveats in the documentation: https://pandas.pydata.org/pandas-docs/stable/user_guide/indexing.html#returning-a-view-versus-a-copy\n",
      "  df_clean['metascore'] = df_clean['metascore'].round(1)\n"
     ]
    },
    {
     "data": {
      "text/html": [
       "<div>\n",
       "<style scoped>\n",
       "    .dataframe tbody tr th:only-of-type {\n",
       "        vertical-align: middle;\n",
       "    }\n",
       "\n",
       "    .dataframe tbody tr th {\n",
       "        vertical-align: top;\n",
       "    }\n",
       "\n",
       "    .dataframe thead th {\n",
       "        text-align: right;\n",
       "    }\n",
       "</style>\n",
       "<table border=\"1\" class=\"dataframe\">\n",
       "  <thead>\n",
       "    <tr style=\"text-align: right;\">\n",
       "      <th></th>\n",
       "      <th>title</th>\n",
       "      <th>imdb</th>\n",
       "      <th>metascore</th>\n",
       "      <th>votes</th>\n",
       "    </tr>\n",
       "  </thead>\n",
       "  <tbody>\n",
       "    <tr>\n",
       "      <th>4</th>\n",
       "      <td>The Black Phone</td>\n",
       "      <td>7.0</td>\n",
       "      <td>6.5</td>\n",
       "      <td>111706</td>\n",
       "    </tr>\n",
       "    <tr>\n",
       "      <th>9</th>\n",
       "      <td>Spider-Man: No Way Home</td>\n",
       "      <td>8.3</td>\n",
       "      <td>7.1</td>\n",
       "      <td>729364</td>\n",
       "    </tr>\n",
       "    <tr>\n",
       "      <th>11</th>\n",
       "      <td>Dune: Part One</td>\n",
       "      <td>8.0</td>\n",
       "      <td>7.4</td>\n",
       "      <td>613613</td>\n",
       "    </tr>\n",
       "    <tr>\n",
       "      <th>12</th>\n",
       "      <td>Licorice Pizza</td>\n",
       "      <td>7.2</td>\n",
       "      <td>9.0</td>\n",
       "      <td>105017</td>\n",
       "    </tr>\n",
       "    <tr>\n",
       "      <th>16</th>\n",
       "      <td>Mona Lisa and the Blood Moon</td>\n",
       "      <td>6.2</td>\n",
       "      <td>6.9</td>\n",
       "      <td>923</td>\n",
       "    </tr>\n",
       "    <tr>\n",
       "      <th>...</th>\n",
       "      <td>...</td>\n",
       "      <td>...</td>\n",
       "      <td>...</td>\n",
       "      <td>...</td>\n",
       "    </tr>\n",
       "    <tr>\n",
       "      <th>229</th>\n",
       "      <td>The Mitchells vs the Machines</td>\n",
       "      <td>7.6</td>\n",
       "      <td>8.1</td>\n",
       "      <td>106853</td>\n",
       "    </tr>\n",
       "    <tr>\n",
       "      <th>230</th>\n",
       "      <td>Till Death</td>\n",
       "      <td>5.8</td>\n",
       "      <td>6.6</td>\n",
       "      <td>21274</td>\n",
       "    </tr>\n",
       "    <tr>\n",
       "      <th>234</th>\n",
       "      <td>The Rescue</td>\n",
       "      <td>8.3</td>\n",
       "      <td>8.4</td>\n",
       "      <td>15665</td>\n",
       "    </tr>\n",
       "    <tr>\n",
       "      <th>240</th>\n",
       "      <td>The Dig</td>\n",
       "      <td>7.1</td>\n",
       "      <td>7.3</td>\n",
       "      <td>74350</td>\n",
       "    </tr>\n",
       "    <tr>\n",
       "      <th>245</th>\n",
       "      <td>What Josiah Saw</td>\n",
       "      <td>6.2</td>\n",
       "      <td>7.0</td>\n",
       "      <td>1612</td>\n",
       "    </tr>\n",
       "  </tbody>\n",
       "</table>\n",
       "<p>71 rows × 4 columns</p>\n",
       "</div>"
      ],
      "text/plain": [
       "                             title  imdb  metascore   votes\n",
       "4                  The Black Phone   7.0        6.5  111706\n",
       "9          Spider-Man: No Way Home   8.3        7.1  729364\n",
       "11                  Dune: Part One   8.0        7.4  613613\n",
       "12                  Licorice Pizza   7.2        9.0  105017\n",
       "16    Mona Lisa and the Blood Moon   6.2        6.9     923\n",
       "..                             ...   ...        ...     ...\n",
       "229  The Mitchells vs the Machines   7.6        8.1  106853\n",
       "230                     Till Death   5.8        6.6   21274\n",
       "234                     The Rescue   8.3        8.4   15665\n",
       "240                        The Dig   7.1        7.3   74350\n",
       "245                What Josiah Saw   6.2        7.0    1612\n",
       "\n",
       "[71 rows x 4 columns]"
      ]
     },
     "execution_count": 30,
     "metadata": {},
     "output_type": "execute_result"
    }
   ],
   "source": [
    "df_clean[['imdb','metascore']] = df_clean[['imdb','metascore']].astype('float64')\n",
    "\n",
    "df_clean['metascore'] = df_clean['metascore'] / 10\n",
    "df_clean['metascore'] = df_clean['metascore'].round(1)\n",
    "df_clean"
   ]
  },
  {
   "cell_type": "markdown",
   "metadata": {},
   "source": [
    "In the imdb's website FAQ, it is stated that calculation of imdb's rating is not arithmetic mean; instead rating displayed on a title's page is a weighted average. So, we can remove `votes` "
   ]
  },
  {
   "cell_type": "code",
   "execution_count": 40,
   "metadata": {},
   "outputs": [],
   "source": [
    "df_novotes = df_clean.drop('votes',axis=1)"
   ]
  },
  {
   "cell_type": "markdown",
   "metadata": {},
   "source": [
    "First, we get top 7 title based on imdb rating"
   ]
  },
  {
   "cell_type": "code",
   "execution_count": 78,
   "metadata": {},
   "outputs": [
    {
     "data": {
      "text/plain": [
       "<AxesSubplot:ylabel='title'>"
      ]
     },
     "execution_count": 78,
     "metadata": {},
     "output_type": "execute_result"
    },
    {
     "data": {
      "image/png": "[encoded data removed]",
      "text/plain": [
       "<Figure size 640x480 with 1 Axes>"
      ]
     },
     "metadata": {},
     "output_type": "display_data"
    }
   ],
   "source": [
    "top_imbdb = df_novotes.sort_values('imdb',ascending=False).head(7)\n",
    "top_imbdb.plot(kind='barh',x='title',y='imdb')\n",
    "\n",
    "# x_topimdb = top_imbdb['title']\n",
    "# y_topimdb = top_imbdb['imdb']\n",
    "\n",
    "# import matplotlib.pyplot as plt\n",
    "# # fig = plt.figure(figsize=(8,3),dpi=300)\n",
    "# # fig.add_subplot()\n",
    "# plt.locator_params(tight=True,nbins=1)\n",
    "# plt.barh(x_topimdb,y_topimdb)"
   ]
  },
  {
   "cell_type": "markdown",
   "metadata": {},
   "source": [
    "How about top 7 based on metascore ?"
   ]
  },
  {
   "cell_type": "code",
   "execution_count": 53,
   "metadata": {},
   "outputs": [
    {
     "data": {
      "text/plain": [
       "<AxesSubplot:ylabel='title'>"
      ]
     },
     "execution_count": 53,
     "metadata": {},
     "output_type": "execute_result"
    },
    {
     "data": {
      "image/png": "[encoded data removed]",
      "text/plain": [
       "<Figure size 640x480 with 1 Axes>"
      ]
     },
     "metadata": {},
     "output_type": "display_data"
    }
   ],
   "source": [
    "top_ms = df_novotes.sort_values('metascore',ascending=False).head(7)\n",
    "top_ms.plot.barh(x='title',y='metascore')"
   ]
  },
  {
   "cell_type": "markdown",
   "metadata": {},
   "source": [
    "Further analysis, imdb and metascore rating will be compared using `hist()`"
   ]
  },
  {
   "cell_type": "code",
   "execution_count": 86,
   "metadata": {},
   "outputs": [
    {
     "data": {
      "text/plain": [
       "array([[<AxesSubplot:title={'center':'imdb'}>,\n",
       "        <AxesSubplot:title={'center':'metascore'}>],\n",
       "       [<AxesSubplot:title={'center':'combined_rating'}>, <AxesSubplot:>]],\n",
       "      dtype=object)"
      ]
     },
     "execution_count": 86,
     "metadata": {},
     "output_type": "execute_result"
    },
    {
     "data": {
      "image/png": "[encoded data removed]",
      "text/plain": [
       "<Figure size 640x480 with 4 Axes>"
      ]
     },
     "metadata": {},
     "output_type": "display_data"
    }
   ],
   "source": [
    "df_novotes.hist()\n",
    "# imdb_hist = df_novotes['imdb']\n",
    "# ms_hist = df_novotes['metascore'] \n",
    "# plt.hist(x_ms_hist)"
   ]
  },
  {
   "cell_type": "markdown",
   "metadata": {},
   "source": [
    "### Implementing your webscrapping to the flask dashboard\n",
    "\n",
    "- Copy paste all of your web scrapping process to the desired position on the `app.py`\n",
    "- Changing the title of the dasboard at `index.html`"
   ]
  },
  {
   "cell_type": "markdown",
   "metadata": {},
   "source": [
    "## Finishing This Notebook with Your Analysis and Conclusion\n",
    "\n",
    "First you can do start with making the data visualisation. "
   ]
  },
  {
   "cell_type": "code",
   "execution_count": 39,
   "metadata": {
    "ExecuteTime": {
     "end_time": "2020-01-13T05:20:56.208237Z",
     "start_time": "2020-01-13T05:20:56.076043Z"
    }
   },
   "outputs": [
    {
     "data": {
      "text/plain": [
       "array([[<AxesSubplot:title={'center':'imdb'}>,\n",
       "        <AxesSubplot:title={'center':'metascore'}>]], dtype=object)"
      ]
     },
     "execution_count": 39,
     "metadata": {},
     "output_type": "execute_result"
    },
    {
     "data": {
      "image/png": "[encoded data removed]",
      "text/plain": [
       "<Figure size 640x480 with 2 Axes>"
      ]
     },
     "metadata": {},
     "output_type": "display_data"
    }
   ],
   "source": [
    "df_novotes.hist()"
   ]
  },
  {
   "cell_type": "markdown",
   "metadata": {},
   "source": [
    "Based on both histogram, metascore resembles more as normal distribution. It has more bars around lowest and highest rating area.\n",
    "In imdb's histogram, distribution tend to average area (x-axis between 6 and 8). \n",
    "<br><br>\n",
    "It is possible because sampling is too small, initially 250 data then removed missing metascore into 70. \n",
    "Other reason, metascore is review from leading critics which is reviewer more filtered than imdb. \n",
    "<br><br>\n",
    "Conclusion, metascore rating is better suited to movie enthusiast (considering all aspect of movie)."
   ]
  },
  {
   "cell_type": "markdown",
   "metadata": {},
   "source": [
    "### Extra Challange\n",
    "\n",
    "This will be not included to the scoring. \n",
    "\n",
    "- You can create additional analysis from the data.\n",
    "- Implement it to the dashboard with at `app.py` dan `index.html`."
   ]
  }
 ],
 "metadata": {
  "kernelspec": {
   "display_name": "python_38",
   "language": "python",
   "name": "python_38"
  },
  "language_info": {
   "codemirror_mode": {
    "name": "ipython",
    "version": 3
   },
   "file_extension": ".py",
   "mimetype": "text/x-python",
   "name": "python",
   "nbconvert_exporter": "python",
   "pygments_lexer": "ipython3",
   "version": "3.8.13"
  }
 },
 "nbformat": 4,
 "nbformat_minor": 2
}
