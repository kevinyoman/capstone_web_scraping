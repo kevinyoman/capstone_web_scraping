{
 "cells": [
  {
   "cell_type": "markdown",
   "metadata": {},
   "source": [
    "# Capstone Webscrapping using BeautifulSoup\n",
    "\n",
    "This notebook contains guidances & tasks on the data processing for the application\n",
    "\n",
    "## Background\n",
    "\n",
    "This project is about scrap popular movie released in year 2021 from website imdb.com. Imdb, stands for internet movie database, is a site that give information about movie related in detail, like what is the movie genre, when movie released, who is director, stars played in a movie, some trivia and most importantly, user review and voting that give result into imdb rating.\n",
    "\n",
    "Most of people who want to watch movie in cinema, rent a DVD, or digital streaming service, they need to find review or watch trailer first before commit spent times and money. This is that will be provided by website imbd. Other than imbd, there are many similar website like rottentomatoes and metacritics.\n",
    "\n",
    "We will scrap several points: title, imdb rating, vote count and metascore. From these points, we want to ascertain if rating from imdb is representing a sample of populace distributely enough or bias. \n",
    "\n",
    "## Requesting the Data and Creating a BeautifulSoup\n",
    "\n",
    "Let's begin with requesting the web from the site with `get` method."
   ]
  },
  {
   "cell_type": "code",
   "execution_count": 2,
   "metadata": {
    "ExecuteTime": {
     "end_time": "2020-01-13T05:12:23.275508Z",
     "start_time": "2020-01-13T05:12:20.009898Z"
    }
   },
   "outputs": [],
   "source": [
    "import requests\n",
    "\n",
    "url_get = requests.get('https://www.imdb.com/search/title/?release_date=2021-01-01,2021-12-31&count=250')"
   ]
  },
  {
   "cell_type": "markdown",
   "metadata": {},
   "source": [
    "To visualize what exactly you get from the `request.get`, we can use .content so ee what we exactly get, in here i slice it so it won't make our screen full of the html we get from the page. You can delete the slicing if you want to see what we fully get."
   ]
  },
  {
   "cell_type": "code",
   "execution_count": 3,
   "metadata": {
    "ExecuteTime": {
     "end_time": "2020-01-13T05:12:23.290648Z",
     "start_time": "2020-01-13T05:12:23.277650Z"
    }
   },
   "outputs": [
    {
     "data": {
      "text/plain": [
       "b'\\n<!DOCTYPE html>\\n<html\\n    xmlns:og=\"http://ogp.me/ns#\"\\n    xmlns:fb=\"http://www.facebook.com/2008/fbml\">\\n    <head>\\n         \\n\\n        <meta charset=\"utf-8\">\\n\\n\\n\\n\\n        <script type=\"text/javascript\">var IMDbTimer={starttime: new Date().getTime(),pt:\\'java\\'};</script>\\n\\n<script>\\n    if (typeof uet == \\'function\\') {\\n      uet(\"bb\", \"LoadTitle\", {wb: 1});\\n    }\\n</script>\\n  <script>(function(t){ (t.events = t.events || {})[\"csm_head_pre_title\"] = new Date().getTime(); })(IMDbTimer);</script>\\n      '"
      ]
     },
     "execution_count": 3,
     "metadata": {},
     "output_type": "execute_result"
    }
   ],
   "source": [
    "url_get.content[1:500]"
   ]
  },
  {
   "cell_type": "markdown",
   "metadata": {},
   "source": [
    "As we can see we get a very unstructured and complex html, which actually contains the codes needed to show the webpages on your web browser. But we as human still confused what and where we can use that piece of code, so here where we use the beautifulsoup. Beautiful soup class will result a beautifulsoup object. Beautiful Soup transforms a complex HTML document into a complex tree of Python objects. \n",
    "\n",
    "Let's make Beautiful soup object and feel free to explore the object here."
   ]
  },
  {
   "cell_type": "code",
   "execution_count": 4,
   "metadata": {
    "ExecuteTime": {
     "end_time": "2020-01-13T05:12:23.808122Z",
     "start_time": "2020-01-13T05:12:23.292610Z"
    }
   },
   "outputs": [],
   "source": [
    "from bs4 import BeautifulSoup \n",
    "\n",
    "soup = BeautifulSoup(url_get.content,\"html.parser\")"
   ]
  },
  {
   "cell_type": "markdown",
   "metadata": {},
   "source": [
    "## Finding the right key to scrap the data & Extracting the right information"
   ]
  },
  {
   "cell_type": "markdown",
   "metadata": {},
   "source": [
    "Find the key and put the key into the `.find()` Put all the exploring the right key at this cell. (please change this markdown with your explanation)"
   ]
  },
  {
   "cell_type": "code",
   "execution_count": 5,
   "metadata": {
    "ExecuteTime": {
     "end_time": "2020-01-13T05:12:23.878904Z",
     "start_time": "2020-01-13T05:12:23.854974Z"
    }
   },
   "outputs": [
    {
     "name": "stdout",
     "output_type": "stream",
     "text": [
      "div class=\"lister-list\">\n",
      " <div class=\"lister-item mode-advanced\">\n",
      "  <div class=\"lister-top-right\">\n",
      "   <div class=\"ribbonize\" data-caller=\"filmosearch\" data-tconst=\"tt8179402\">\n",
      "   </div>\n",
      "  </div>\n",
      "  <div class=\"lister-item-image float-left\">\n",
      "   <a href=\"/title/tt8179402/\">\n",
      "    <img alt=\"Fate: The Winx Saga\" class=\"loadlate\" data-tconst=\"tt8179402\" height=\"98\" loadlate=\"https://m.media-amazon.com/images/M/MV5BMzEyYzBhODYtZjZlOC00MTM4LWIxMjQtMTRhZjA5ODM4ZWI2XkEyXkFqcGdeQXVyODQwODA1MjY@._V1_UY98_CR5\n"
     ]
    }
   ],
   "source": [
    "table = soup.find('div', attrs={'class':'lister-list'})\n",
    "print(table.prettify()[1:500])"
   ]
  },
  {
   "cell_type": "markdown",
   "metadata": {},
   "source": [
    "Finding row length."
   ]
  },
  {
   "cell_type": "code",
   "execution_count": 6,
   "metadata": {},
   "outputs": [],
   "source": [
    "#### judul , imdb rating , votes, dan metascore\n",
    "judul_all = table.find_all('h3', attrs={'class':'lister-item-header'})\n",
    "row_length = len(judul_all)\n",
    "\n",
    "metascore_bar = table.find_all('div', attrs={'class':'ratings-bar'})"
   ]
  },
  {
   "cell_type": "code",
   "execution_count": 7,
   "metadata": {},
   "outputs": [],
   "source": [
    "# debugging / testing code\n",
    "\n",
    "# judul_all[4].text.strip().split('\\n')[1]\n",
    "\n",
    "# imdb_rating = metascore_bar[0].find('meta', attrs={'itemprop':'ratingValue'})['content']\n",
    "# votes = metascore_bar[0].find('meta', attrs={'itemprop':'ratingCount'})['content']\n",
    "\n",
    "# find_metascore = metascore_bar[3].find_all('span', attrs={'class':'metascore favorable'})\n",
    "# metascore = find_metascore[0].text.strip() if (find_metascore) else 'missing' \n",
    "\n",
    "# genre_all = table.find_all('div', attrs={'class':'lister-item-content'})\n",
    "# genre = genre_all[2].find('span', attrs={'class':'genre'}).text.strip()\n",
    "\n",
    "# get release date\n",
    "# table_rd[28].find_all('td')[0].find('a')['href'].split('region=')[1]\n",
    "# table_rd[28].find_all('td')[1].text.split(' ')"
   ]
  },
  {
   "cell_type": "code",
   "execution_count": 8,
   "metadata": {},
   "outputs": [],
   "source": [
    "#  jalan lain menuju roma\n",
    "# ratings_bar =  table.find('div', attrs={'class':'ratings-bar'})\n",
    "# imdb_rating = ratings_bar.find_all('div', attrs={'class':'ratings-imdb-rating'})[0]['data-value']\n",
    "# metascore_bar[0].find_all('span', attrs={'class':'metascore favorable'})"
   ]
  },
  {
   "cell_type": "markdown",
   "metadata": {},
   "source": [
    "For additional analysis, let's get release date each title by calling other page that has the information. We need relation link that represent each title and assign to variable `judul_link`. To make coding neat, create new function `get_releasedate`. Input of the function will be `judul_link`."
   ]
  },
  {
   "cell_type": "markdown",
   "metadata": {},
   "source": [
    "In this project, we want only to get release date from USA, so we need filter which date using region code 'us'."
   ]
  },
  {
   "cell_type": "code",
   "execution_count": 9,
   "metadata": {},
   "outputs": [],
   "source": [
    "# function to call page that has information about release date\n",
    "def get_releasedate(title_rellink):\n",
    "    url_rd = f'''https://www.imdb.com/title/{title_rellink}/releaseinfo?ref_=tt_dt_rdat'''\n",
    "    release_get = requests.get(url_rd)\n",
    "    soup_rd = BeautifulSoup(release_get.content,\"html.parser\")\n",
    "    table_rd = soup_rd.find_all('tr', attrs={'class':'ipl-zebra-list__item release-date-item'})\n",
    "    rd_length=len(table_rd)\n",
    "    \n",
    "    release_date = ''\n",
    "    for i in range(0,rd_length):\n",
    "        # only date from region USA\n",
    "        get_region = table_rd[i].find_all('td')[0].find('a')['href'].split('region=')[1]\n",
    "        if get_region == 'us':\n",
    "            rd = table_rd[i].find_all('td')[1].text.split(' ')\n",
    "            release_date = f'''{rd[0]}-{rd[1]}'''\n",
    "    return release_date"
   ]
  },
  {
   "cell_type": "markdown",
   "metadata": {},
   "source": [
    "Any function code should be defined first before get called, that's why we place function `get_releasedate` before looping. "
   ]
  },
  {
   "cell_type": "markdown",
   "metadata": {},
   "source": [
    "Also, we will include rank of popularity defined by imdb. By default, data already sort by popularity, so we can use index in the looping"
   ]
  },
  {
   "cell_type": "code",
   "execution_count": 10,
   "metadata": {
    "ExecuteTime": {
     "end_time": "2020-01-13T05:12:24.008256Z",
     "start_time": "2020-01-13T05:12:23.980358Z"
    }
   },
   "outputs": [
    {
     "data": {
      "text/plain": [
       "[(1, 'Fate: The Winx Saga', '6.9', 0, '44540', '22-January'),\n",
       " (2, 'The White Lotus', '7.6', 0, '67758', '11-July'),\n",
       " (3, 'Only Murders in the Building', '8.1', 0, '96384', '31-August'),\n",
       " (4, 'Abbott Elementary', '8.2', 0, '13760', '7-December'),\n",
       " (5, 'The Black Phone', '7', '65', '113257', '24-June'),\n",
       " (6, 'Resident Alien', '8.1', 0, '39241', '27-January'),\n",
       " (7, 'American Horror Stories', '6.2', 0, '20787', '15-July'),\n",
       " (8, '1883', '8.8', 0, '63217', '19-December'),\n",
       " (9, 'Reservation Dogs', '8.1', 0, '14640', '9-August'),\n",
       " (10, 'Spider-Man: No Way Home', '8.3', '71', '730503', '2-September'),\n",
       " (11, 'La scuola cattolica', '5.7', 0, '1803', '14-September'),\n",
       " (12, 'Dune: Part One', '8', '74', '614482', '22-October'),\n",
       " (13, 'Licorice Pizza', '7.2', '90', '105611', '4-March'),\n",
       " (14, 'Forsvinningen på Lørenskog', '6.1', 0, '1073', '14-September'),\n",
       " (15, 'Dopesick', '8.6', 0, '54561', '13-October'),\n",
       " (16, \"NCIS: Hawai'i\", '6.3', 0, '5536', '20-September'),\n",
       " (17, 'Mona Lisa and the Blood Moon', '6.2', '69', '1031', '30-September'),\n",
       " (18, 'The Little Things', '6.3', 0, '99643', '29-January'),\n",
       " (19, 'Bloodlands', '6.6', 0, '5080', '12-June'),\n",
       " (20, 'Arcane: League of Legends', '9', 0, '197871', '6-November'),\n",
       " (21, 'Yellowjackets', '7.9', 0, '44891', '14-November'),\n",
       " (22, 'The Wheel of Time', '7.1', 0, '102430', '19-November'),\n",
       " (23, 'Sing 2', '7.4', 0, '65815', '22-December'),\n",
       " (24, 'No Time to Die', '7.3', '68', '390311', '21-January'),\n",
       " (25, 'The Matrix Resurrections', '5.7', '63', '243272', '22-December'),\n",
       " (26, 'Ojing-eo geim', '8', 0, '436178', '17-September'),\n",
       " (27, 'Snabba cash', '7.6', 0, '9304', '7-April'),\n",
       " (28, 'House of Gucci', '6.6', 0, '129977', '24-November'),\n",
       " (29, 'Last Night in Soho', '7.1', '65', '130418', '18-December'),\n",
       " (30, 'Hacks', '8.2', 0, '28745', '13-May'),\n",
       " (31, 'Ghosts', '7.8', 0, '14798', '7-October'),\n",
       " (32, 'Law & Order: Organized Crime', '7.7', 0, '7084', '1-April'),\n",
       " (33, 'Ghostbusters: Afterlife', '7.1', 0, '176348', '19-November'),\n",
       " (34, 'La Brea', '5.6', 0, '10260', '28-September'),\n",
       " (35, 'Pleasure', '6.3', '75', '15057', '13-May'),\n",
       " (36, 'Gekijouban Jujutsu Kaisen 0', '7.9', '71', '14860', '18-March'),\n",
       " (37, 'Eternals', '6.3', 0, '333517', '15-February'),\n",
       " (38, 'Mare of Easttown', '8.4', 0, '152138', '18-April'),\n",
       " (39, 'Midnight Mass', '7.7', 0, '111457', '24-September'),\n",
       " (40, 'The Book of Boba Fett', '7.3', 0, '144424', '29-December'),\n",
       " (41, 'Home Economics', '6.7', 0, '4001', '7-April'),\n",
       " (42, 'Shadow and Bone', '7.6', 0, '83004', '23-April'),\n",
       " (43, \"Don't Look Up\", '7.2', 0, '526560', '24-December'),\n",
       " (44, 'Loki', '8.2', 0, '306481', '9-June'),\n",
       " (45, 'FBI: International', '6.3', 0, '3891', '21-September'),\n",
       " (46, 'Spencer', '6.6', '76', '66053', '6-January'),\n",
       " (47, 'Sex/Life', '5.4', 0, '21152', '25-June'),\n",
       " (48, 'The Last Duel', '7.4', '67', '152148', '15-October'),\n",
       " (49, 'Free Guy', '7.1', '62', '361251', '13-August'),\n",
       " (50, 'Old', '5.8', 0, '116913', '23-July'),\n",
       " (51, 'Black Widow', '6.7', '67', '370081', '14-September'),\n",
       " (52, 'The Suicide Squad', '7.2', '72', '343158', '6-August'),\n",
       " (53, 'Chucky', '7.3', 0, '18242', '12-October'),\n",
       " (54, 'Power Book III: Raising Kanan', '7.4', 0, '4067', '18-July'),\n",
       " (55, 'Encanto', '7.2', '75', '214800', '24-December'),\n",
       " (56, 'Belfast', '7.3', '75', '70182', '5-March'),\n",
       " (57, 'WandaVision', '7.9', 0, '316066', '15-January'),\n",
       " (58, 'The Sex Lives of College Girls', '7.8', 0, '15767', '18-November'),\n",
       " (59, 'Invincible', '8.7', 0, '131854', '26-March'),\n",
       " (60, \"The King's Man\", '6.3', 0, '142042', '22-December'),\n",
       " (61, 'CODA', '8', '74', '126341', 'March-2022'),\n",
       " (62, 'Nine Perfect Strangers', '7', 0, '49126', '18-August'),\n",
       " (63, 'Nobody', '7.4', '64', '243461', '26-March'),\n",
       " (64, 'Verdens verste menneske', '7.8', '90', '60842', '4-February'),\n",
       " (65, 'Chhello Show', '7.2', 0, '604', '20-April'),\n",
       " (66, 'Nightmare Alley', '7', '70', '138317', '25-January'),\n",
       " (67, 'The Guilty', '6.3', '63', '122444', '1-October'),\n",
       " (68, 'Kevin Can F**k Himself', '7', 0, '8417', '13-June'),\n",
       " (69, 'Professor T', '6.9', 0, '2992', '11-July'),\n",
       " (70, 'Wrath of Man', '7.1', 0, '173682', '7-May'),\n",
       " (71, \"Zack Snyder's Justice League\", '8', 0, '390627', '7-September'),\n",
       " (72, 'Bisang seoneon', '7', '70', '2563', '12-August'),\n",
       " (73, 'Halloween Kills', '5.5', 0, '78233', '15-October'),\n",
       " (74, 'Infinite', '5.4', 0, '49606', '10-June'),\n",
       " (75, 'The Voyeurs', '6', 0, '21482', '10-September'),\n",
       " (76, 'The French Dispatch', '7.2', '74', '117585', '27-October'),\n",
       " (77, 'Superman & Lois', '7.8', 0, '32031', '23-February'),\n",
       " (78, 'The Outlaws', '7.7', 0, '11339', '18-March'),\n",
       " (79, 'Mayor of Kingstown', '8.2', 0, '23088', '14-November'),\n",
       " (80, 'Foundation', '7.4', 0, '57737', '24-September'),\n",
       " (81, 'Operation Mincemeat', '6.6', '65', '22529', '11-May'),\n",
       " (82, 'Red Rocket', '7.2', '76', '22725', 'March-2022'),\n",
       " (83,\n",
       "  'Shang-Chi and the Legend of the Ten Rings',\n",
       "  '7.4',\n",
       "  '71',\n",
       "  '372942',\n",
       "  '30-November'),\n",
       " (84, 'Hawkeye', '7.5', 0, '176482', '24-November'),\n",
       " (85, 'F9', '5.2', 0, '130253', '25-June'),\n",
       " (86, 'West Side Story', '7.2', '85', '80373', '15-March'),\n",
       " (87, 'Station Eleven', '7.6', 0, '25193', '16-December'),\n",
       " (88, 'De uskyldige', '7', '79', '12196', '13-May'),\n",
       " (89, 'CSI: Vegas', '7.5', 0, '5992', '6-October'),\n",
       " (90, 'Cruella', '7.3', 0, '230234', '28-May'),\n",
       " (91, 'Dexter: New Blood', '8.1', 0, '86449', '7-November'),\n",
       " (92, 'The Forgiven', '5.9', 0, '3466', '1-July'),\n",
       " (93, 'After We Fell', '4.6', 0, '14454', '22-October'),\n",
       " (94, 'The Power of the Dog', '6.8', '89', '170284', '13-January'),\n",
       " (95, 'The Prince', '5.5', 0, '2846', '29-July'),\n",
       " (96, 'The Many Saints of Newark', '6.3', 0, '53641', '1-October'),\n",
       " (97, 'Behind Her Eyes', '7.2', 0, '61107', '17-February'),\n",
       " (98, 'Malignant', '6.2', 0, '88014', '10-September'),\n",
       " (99, 'Maid', '8.4', 0, '81342', '1-October'),\n",
       " (100, 'Venom: Let There Be Carnage', '5.9', 0, '219187', '1-October'),\n",
       " (101, 'Mortal Kombat', '6.1', 0, '171362', '6-May'),\n",
       " (102, 'The Nevers', '7.4', 0, '23433', '11-April'),\n",
       " (103, 'Red Notice', '6.3', 0, '270829', '12-November'),\n",
       " (104, 'Walker', '6', 0, '11631', '21-January'),\n",
       " (105, 'Candyman', '5.9', '72', '63614', '27-August'),\n",
       " (106, 'Girl in the Basement', '6.3', 0, '7607', '27-February'),\n",
       " (107, 'What If...?', '7.4', 0, '111594', '11-August'),\n",
       " (108, 'The Tomorrow War', '6.5', 0, '203150', '2-July'),\n",
       " (109, 'And Just Like That...', '5.6', 0, '27264', '9-December'),\n",
       " (110, 'Marcel the Shell with Shoes On', '8', '81', '5207', '24-June'),\n",
       " (111, 'Star Wars: The Bad Batch', '7.8', 0, '32418', '4-May'),\n",
       " (112, 'Those Who Wish Me Dead', '6', 0, '60361', '14-May'),\n",
       " (113, 'Lamb', '6.3', '68', '26935', '8-October'),\n",
       " (114, 'Fear Street: 1994', '6.2', '67', '79910', '2-July'),\n",
       " (115, 'The Green Knight', '6.6', '85', '98641', '30-July'),\n",
       " (116, 'The Mighty Ducks: Game Changers', '7.4', 0, '4789', '26-March'),\n",
       " (117, 'Ginny & Georgia', '7.4', 0, '48251', '24-February'),\n",
       " (118, 'King Richard', '7.5', '76', '107607', '6-March'),\n",
       " (119, 'The Serpent', '7.6', 0, '43311', '2-April'),\n",
       " (120, 'The Falcon and the Winter Soldier', '7.2', 0, '215315', '19-March'),\n",
       " (121, 'Mad God', '6.8', '80', '7283', '16-June'),\n",
       " (122, 'The Unforgivable', '7.1', 0, '107936', '10-December'),\n",
       " (123, 'The Equalizer', '5.2', 0, '12654', '7-February'),\n",
       " (124, 'The Fallout', '7', '84', '16592', '27-January'),\n",
       " (125,\n",
       "  'Resident Evil: Welcome to Raccoon City',\n",
       "  '5.2',\n",
       "  0,\n",
       "  '52550',\n",
       "  '24-November'),\n",
       " (126, 'The Retaliators', '5.5', 0, '351', '14-September'),\n",
       " (127, 'Army of the Dead', '5.7', 0, '171493', '21-May'),\n",
       " (128, 'Godzilla vs. Kong', '6.3', 0, '205818', '31-March'),\n",
       " (129, 'Cowboy Bebop', '6.7', 0, '39511', '19-November'),\n",
       " (130, 'Leonardo', '7.2', 0, '3433', '16-August'),\n",
       " (131, 'The Harder They Fall', '6.5', '68', '61865', '3-November'),\n",
       " (132, 'Copshop', '6.2', '61', '30958', '17-September'),\n",
       " (133, 'Old Henry', '7.2', '69', '24959', '1-October'),\n",
       " (134, 'No Sudden Move', '6.4', '76', '34548', '1-July'),\n",
       " (135, 'Jungle Cruise', '6.6', 0, '185362', '30-July'),\n",
       " (136, 'Skyggen i mit øje', '7.3', 0, '11153', '9-March'),\n",
       " (137, \"He's All That\", '4.4', 0, '24905', '27-August'),\n",
       " (138, \"Clarkson's Farm\", '9', 0, '35685', '10-June'),\n",
       " (139, 'The Lost Daughter', '6.7', '86', '63010', '31-December'),\n",
       " (140, 'The Card Counter', '6.2', '77', '33560', '10-September'),\n",
       " (141, 'Competencia oficial', '7.1', '79', '7316', '17-June'),\n",
       " (142, 'Tunna blå linjen', '8.1', 0, '4121', ''),\n",
       " (143, 'Cinderella', '4.3', 0, '41899', '3-September'),\n",
       " (144, 'The Eyes of Tammy Faye', '6.6', 0, '32096', '17-September'),\n",
       " (145, 'Invasion', '6', 0, '27119', '22-October'),\n",
       " (146, 'Pig', '6.9', '82', '72140', '12-November'),\n",
       " (147, 'After Yang', '6.7', '78', '11788', '4-March'),\n",
       " (148, 'Luca', '7.4', '71', '159649', '18-June'),\n",
       " (149, 'Boiling Point', '7.5', '73', '23636', '19-November'),\n",
       " (150, 'Them', '7.3', 0, '19508', '9-April'),\n",
       " (151, \"We're All Going to the World's Fair\", '5.3', '78', '2649', '22-April'),\n",
       " (152, 'Firebird', '7.1', 0, '8869', '29-April'),\n",
       " (153, 'tick, tick...BOOM!', '7.5', '74', '103821', '16-December'),\n",
       " (154, 'Ku bei', '6.5', '68', '10944', '12-May'),\n",
       " (155, 'Lupin', '7.5', 0, '105567', '8-January'),\n",
       " (156, 'True Story', '7.4', 0, '18414', '24-November'),\n",
       " (157, 'The Wheel of Time: Origins', '7', 0, '10196', '18-November'),\n",
       " (158, 'The Hating Game', '6.2', 0, '15875', '10-December'),\n",
       " (159, 'Raya and the Last Dragon', '7.3', '75', '149301', '30-October'),\n",
       " (160, 'Army of Thieves', '6.4', 0, '76070', '29-October'),\n",
       " (161, 'Inside Job', '7.6', 0, '17778', '22-October'),\n",
       " (162, 'Titane', '6.6', '75', '44309', '11-November'),\n",
       " (163, 'Maharani', '7.9', 0, '7942', ''),\n",
       " (164, 'The Conjuring: The Devil Made Me Do It', '6.3', 0, '112890', '4-June'),\n",
       " (165, 'Stillwater', '6.6', 0, '42625', '30-July'),\n",
       " (166, 'Way Down', '6.4', 0, '25238', '26-March'),\n",
       " (167, 'The Protégé', '6.1', 0, '31881', '20-August'),\n",
       " (168, 'Wrong Turn', '5.5', 0, '30771', '26-February'),\n",
       " (169, 'American Underdog', '7.1', 0, '14210', '25-December'),\n",
       " (170, 'Benedetta', '6.8', '73', '18767', '3-December'),\n",
       " (171, 'Wolf', '5.5', 0, '11603', '3-December'),\n",
       " (172, \"Hitman's Wife's Bodyguard\", '6.1', 0, '91135', '16-June'),\n",
       " (173,\n",
       "  'The Electrical Life of Louis Wain',\n",
       "  '6.8',\n",
       "  '63',\n",
       "  '14060',\n",
       "  '5-November'),\n",
       " (174, 'Leverage: Redemption', '8.3', 0, '17730', '9-July'),\n",
       " (175, 'Doraibu mai kâ', '7.6', '91', '47764', '24-November'),\n",
       " (176, 'Stay Close', '6.9', 0, '31345', '31-December'),\n",
       " (177, 'Gossip Girl', '5.3', 0, '11244', '9-July'),\n",
       " (178, 'Things Heard & Seen', '5.3', 0, '31484', '29-April'),\n",
       " (179, 'Cry Macho', '5.7', 0, '26909', '17-September'),\n",
       " (180, 'Finch', '6.9', 0, '81277', '5-November'),\n",
       " (181, 'Chaos Walking', '5.7', 0, '48019', '5-March'),\n",
       " (182, 'One of Us Is Lying', '6.8', 0, '8986', '7-October'),\n",
       " (183, 'Antlers', '5.9', 0, '36757', '29-October'),\n",
       " (184, 'Physical', '7.3', 0, '9245', '18-June'),\n",
       " (185, 'The Tender Bar', '6.7', 0, '27711', '7-January'),\n",
       " (186, 'Fear Street: 1978', '6.7', '61', '62956', '9-July'),\n",
       " (187, 'Last Looks', '5.7', 0, '7049', '4-February'),\n",
       " (188, 'Midnight in the Switchgrass', '4.4', 0, '7650', '27-July'),\n",
       " (189, 'Reminiscence', '5.8', 0, '55258', '20-August'),\n",
       " (190, 'Eight for Silver', '6.2', '62', '10482', '18-February'),\n",
       " (191, 'The Tragedy of Macbeth', '7.1', '87', '33408', '14-January'),\n",
       " (192, 'Nordsjøen', '6.3', 0, '4314', '25-February'),\n",
       " (193, \"Don't Breathe 2\", '6', 0, '55788', '13-August'),\n",
       " (194, 'In the Heights', '7.3', '84', '46795', '11-June'),\n",
       " (195, \"C'mon C'mon\", '7.4', '82', '28870', '3-December'),\n",
       " (196, 'No One Gets Out Alive', '5.3', 0, '16113', '29-September'),\n",
       " (197, 'Intrusion', '5.2', 0, '17151', '22-September'),\n",
       " (198, 'Dear Evan Hansen', '6.1', 0, '14515', '24-September'),\n",
       " (199, 'Sweet Tooth', '7.8', 0, '51275', '4-June'),\n",
       " (200, 'Dogs in Space', '7.1', 0, '712', '18-November'),\n",
       " (201, 'Binsenjo', '8.4', 0, '17786', '20-February'),\n",
       " (202, 'The Woman in the Window', '5.7', 0, '74607', '14-May'),\n",
       " (203, 'Kate', '6.2', 0, '61194', '10-September'),\n",
       " (204, 'Silent Night', '5.7', 0, '12814', '3-December'),\n",
       " (205, 'Escape Room: Tournament of Champions', '5.7', 0, '44634', '16-July'),\n",
       " (206, 'The Good House', '6.9', '62', '158', '30-September'),\n",
       " (207, 'Saloum', '6.3', '78', '1013', '8-September'),\n",
       " (208, 'Scenes from a Marriage', '8', 0, '22089', '12-September'),\n",
       " (209, 'iCarly', '6.6', 0, '4752', '17-June'),\n",
       " (210, 'Joe Pickett', '7.6', 0, '2600', '6-December'),\n",
       " (211, 'Voyagers', '5.4', 0, '21083', '9-April'),\n",
       " (212, 'Dr. Death', '7.6', 0, '12522', '15-July'),\n",
       " (213, 'Land of Dreams', '5.2', 0, '211', '16-September'),\n",
       " (214, 'Ryû to sobakasu no hime', '7.1', '83', '11169', '14-January'),\n",
       " (215, 'Grace', '7.2', 0, '4109', '27-April'),\n",
       " (216, 'Judas and the Black Messiah', '7.4', '85', '78267', '12-February'),\n",
       " (217, 'Aftermath', '5.3', 0, '16095', '4-August'),\n",
       " (218, 'The Chestnut Man', '7.7', 0, '44522', '29-September'),\n",
       " (219, 'Munich: The Edge of War', '6.8', 0, '30011', '21-January'),\n",
       " (220, 'Tides', '5.4', 0, '9263', '27-August'),\n",
       " (221, 'Brand New Cherry Flavor', '7.1', 0, '15534', '13-August'),\n",
       " (222, 'Made for Love', '6.9', 0, '10853', '1-April'),\n",
       " (223, 'The Beatles: Get Back', '9', 0, '22028', '30-January'),\n",
       " (224, 'Firefly Lane', '7.4', 0, '21351', '3-February'),\n",
       " (225, 'Spiral: From the Book of Saw', '5.2', 0, '52759', '14-May'),\n",
       " (226, 'Cruel Summer', '7.5', 0, '14317', '20-April'),\n",
       " (227, 'The Twelve', '6.6', 0, '641', '21-June'),\n",
       " (228, \"There's Someone Inside Your House\", '4.8', 0, '16170', '6-October'),\n",
       " (229, \"Willy's Wonderland\", '5.5', 0, '28884', '12-February'),\n",
       " (230, 'The Phantom of the Open', '7', '65', '3305', '3-June'),\n",
       " (231, 'The Mitchells vs the Machines', '7.6', '81', '106953', '19-December'),\n",
       " (232, 'Till Death', '5.8', '66', '21317', '2-July'),\n",
       " (233, 'I Am All Girls', '5.9', 0, '6162', '14-May'),\n",
       " (234, 'The Falconer', '6.2', 0, '78', '16-September'),\n",
       " (235, 'The North Water', '7.6', 0, '12736', '15-July'),\n",
       " (236, 'The Rescue', '8.3', '84', '15738', '1-January'),\n",
       " (237, 'Gunpowder Milkshake', '6', 0, '43992', '14-July'),\n",
       " (238, 'Cherry', '6.6', 0, '32157', '12-March'),\n",
       " (239, ' Hannah Swensen Mysteries (2021– )', '6.9', 0, '319', '8-August'),\n",
       " (240, 'Young Royals', '8.3', 0, '30206', '1-July'),\n",
       " (241, 'Night Teeth', '5.6', 0, '18369', '20-October'),\n",
       " (242, 'The Dig', '7.1', '73', '74404', '29-January'),\n",
       " (243, 'Bajocero', '6.2', 0, '19565', '29-January'),\n",
       " (244, 'Vigil', '7.4', 0, '20705', '3-January'),\n",
       " (245, 'Deceit', '7', 0, '5411', ''),\n",
       " (246, 'The Forever Purge', '5.4', 0, '33453', '2-July'),\n",
       " (247, 'What Josiah Saw', '6.2', '70', '1646', '4-August'),\n",
       " (248, 'Love Hard', '6.3', 0, '51059', '5-November'),\n",
       " (249, \"Dota: Dragon's Blood\", '7.8', 0, '19192', '25-March'),\n",
       " (250, 'The Shrink Next Door', '7.1', 0, '12451', '12-November')]"
      ]
     },
     "execution_count": 10,
     "metadata": {},
     "output_type": "execute_result"
    }
   ],
   "source": [
    "temp = [] #initiating a tuple\n",
    "\n",
    "for i in range(0, row_length):\n",
    "    # rank by popularity in imdb website\n",
    "    rank = i + 1; \n",
    "    \n",
    "    # get title\n",
    "    judul = judul_all[i].text.strip().split('\\n')[1]\n",
    "    \n",
    "    # get relation link of title      \n",
    "    judul_link = judul_all[i].find('a')['href'].split('/')[2]\n",
    "    release_date = get_releasedate(judul_link)\n",
    "\n",
    "    imdb_rating = metascore_bar[i].find('meta', attrs={'itemprop':'ratingValue'})['content']\n",
    "    votes = metascore_bar[i].find('meta', attrs={'itemprop':'ratingCount'})['content']\n",
    "\n",
    "    find_metascore = metascore_bar[i].find_all('span', attrs={'class':'metascore favorable'})\n",
    "    metascore = find_metascore[0].text.strip() if (find_metascore) else 0\n",
    "    \n",
    "    temp.append((rank,judul,imdb_rating,metascore,votes,release_date))\n",
    "temp "
   ]
  },
  {
   "cell_type": "markdown",
   "metadata": {},
   "source": [
    "When processing code above, it will take around 5 minutes"
   ]
  },
  {
   "cell_type": "markdown",
   "metadata": {},
   "source": [
    "## Creating data frame & Data wrangling"
   ]
  },
  {
   "cell_type": "markdown",
   "metadata": {},
   "source": [
    "Put the array into dataframe"
   ]
  },
  {
   "cell_type": "code",
   "execution_count": 11,
   "metadata": {
    "ExecuteTime": {
     "end_time": "2020-01-13T05:12:41.517372Z",
     "start_time": "2020-01-13T05:12:29.130015Z"
    }
   },
   "outputs": [
    {
     "data": {
      "text/html": [
       "<div>\n",
       "<style scoped>\n",
       "    .dataframe tbody tr th:only-of-type {\n",
       "        vertical-align: middle;\n",
       "    }\n",
       "\n",
       "    .dataframe tbody tr th {\n",
       "        vertical-align: top;\n",
       "    }\n",
       "\n",
       "    .dataframe thead th {\n",
       "        text-align: right;\n",
       "    }\n",
       "</style>\n",
       "<table border=\"1\" class=\"dataframe\">\n",
       "  <thead>\n",
       "    <tr style=\"text-align: right;\">\n",
       "      <th></th>\n",
       "      <th>rank</th>\n",
       "      <th>title</th>\n",
       "      <th>imdb</th>\n",
       "      <th>metascore</th>\n",
       "      <th>votes</th>\n",
       "      <th>release_date</th>\n",
       "    </tr>\n",
       "  </thead>\n",
       "  <tbody>\n",
       "    <tr>\n",
       "      <th>0</th>\n",
       "      <td>1</td>\n",
       "      <td>Fate: The Winx Saga</td>\n",
       "      <td>6.9</td>\n",
       "      <td>0</td>\n",
       "      <td>44540</td>\n",
       "      <td>22-January</td>\n",
       "    </tr>\n",
       "    <tr>\n",
       "      <th>1</th>\n",
       "      <td>2</td>\n",
       "      <td>The White Lotus</td>\n",
       "      <td>7.6</td>\n",
       "      <td>0</td>\n",
       "      <td>67758</td>\n",
       "      <td>11-July</td>\n",
       "    </tr>\n",
       "    <tr>\n",
       "      <th>2</th>\n",
       "      <td>3</td>\n",
       "      <td>Only Murders in the Building</td>\n",
       "      <td>8.1</td>\n",
       "      <td>0</td>\n",
       "      <td>96384</td>\n",
       "      <td>31-August</td>\n",
       "    </tr>\n",
       "    <tr>\n",
       "      <th>3</th>\n",
       "      <td>4</td>\n",
       "      <td>Abbott Elementary</td>\n",
       "      <td>8.2</td>\n",
       "      <td>0</td>\n",
       "      <td>13760</td>\n",
       "      <td>7-December</td>\n",
       "    </tr>\n",
       "    <tr>\n",
       "      <th>4</th>\n",
       "      <td>5</td>\n",
       "      <td>The Black Phone</td>\n",
       "      <td>7</td>\n",
       "      <td>65</td>\n",
       "      <td>113257</td>\n",
       "      <td>24-June</td>\n",
       "    </tr>\n",
       "    <tr>\n",
       "      <th>5</th>\n",
       "      <td>6</td>\n",
       "      <td>Resident Alien</td>\n",
       "      <td>8.1</td>\n",
       "      <td>0</td>\n",
       "      <td>39241</td>\n",
       "      <td>27-January</td>\n",
       "    </tr>\n",
       "    <tr>\n",
       "      <th>6</th>\n",
       "      <td>7</td>\n",
       "      <td>American Horror Stories</td>\n",
       "      <td>6.2</td>\n",
       "      <td>0</td>\n",
       "      <td>20787</td>\n",
       "      <td>15-July</td>\n",
       "    </tr>\n",
       "  </tbody>\n",
       "</table>\n",
       "</div>"
      ],
      "text/plain": [
       "   rank                         title imdb metascore   votes release_date\n",
       "0     1           Fate: The Winx Saga  6.9         0   44540   22-January\n",
       "1     2               The White Lotus  7.6         0   67758      11-July\n",
       "2     3  Only Murders in the Building  8.1         0   96384    31-August\n",
       "3     4             Abbott Elementary  8.2         0   13760   7-December\n",
       "4     5               The Black Phone    7        65  113257      24-June\n",
       "5     6                Resident Alien  8.1         0   39241   27-January\n",
       "6     7       American Horror Stories  6.2         0   20787      15-July"
      ]
     },
     "execution_count": 11,
     "metadata": {},
     "output_type": "execute_result"
    }
   ],
   "source": [
    "import pandas as pd\n",
    "col_movie = ['rank','title','imdb','metascore','votes','release_date']\n",
    "df = pd.DataFrame(temp,columns=col_movie)\n",
    "df.head(7)"
   ]
  },
  {
   "cell_type": "markdown",
   "metadata": {},
   "source": [
    "We want convert `release_date` into correct format (YYYY-MM-DD) and assign type to `datetime64`. Before converting, let's see if there are movie not released in USA."
   ]
  },
  {
   "cell_type": "code",
   "execution_count": 12,
   "metadata": {},
   "outputs": [
    {
     "data": {
      "text/html": [
       "<div>\n",
       "<style scoped>\n",
       "    .dataframe tbody tr th:only-of-type {\n",
       "        vertical-align: middle;\n",
       "    }\n",
       "\n",
       "    .dataframe tbody tr th {\n",
       "        vertical-align: top;\n",
       "    }\n",
       "\n",
       "    .dataframe thead th {\n",
       "        text-align: right;\n",
       "    }\n",
       "</style>\n",
       "<table border=\"1\" class=\"dataframe\">\n",
       "  <thead>\n",
       "    <tr style=\"text-align: right;\">\n",
       "      <th></th>\n",
       "      <th>rank</th>\n",
       "      <th>title</th>\n",
       "      <th>imdb</th>\n",
       "      <th>metascore</th>\n",
       "      <th>votes</th>\n",
       "      <th>release_date</th>\n",
       "    </tr>\n",
       "  </thead>\n",
       "  <tbody>\n",
       "    <tr>\n",
       "      <th>141</th>\n",
       "      <td>142</td>\n",
       "      <td>Tunna blå linjen</td>\n",
       "      <td>8.1</td>\n",
       "      <td>0</td>\n",
       "      <td>4121</td>\n",
       "      <td></td>\n",
       "    </tr>\n",
       "    <tr>\n",
       "      <th>162</th>\n",
       "      <td>163</td>\n",
       "      <td>Maharani</td>\n",
       "      <td>7.9</td>\n",
       "      <td>0</td>\n",
       "      <td>7942</td>\n",
       "      <td></td>\n",
       "    </tr>\n",
       "    <tr>\n",
       "      <th>244</th>\n",
       "      <td>245</td>\n",
       "      <td>Deceit</td>\n",
       "      <td>7</td>\n",
       "      <td>0</td>\n",
       "      <td>5411</td>\n",
       "      <td></td>\n",
       "    </tr>\n",
       "  </tbody>\n",
       "</table>\n",
       "</div>"
      ],
      "text/plain": [
       "     rank             title imdb metascore votes release_date\n",
       "141   142  Tunna blå linjen  8.1         0  4121             \n",
       "162   163          Maharani  7.9         0  7942             \n",
       "244   245            Deceit    7         0  5411             "
      ]
     },
     "execution_count": 12,
     "metadata": {},
     "output_type": "execute_result"
    }
   ],
   "source": [
    "missing_date = df[df['release_date'] == '']\n",
    "missing_date"
   ]
  },
  {
   "cell_type": "code",
   "execution_count": 13,
   "metadata": {},
   "outputs": [],
   "source": [
    "df.drop(missing_date.index,axis=0, inplace=True)"
   ]
  },
  {
   "cell_type": "markdown",
   "metadata": {},
   "source": [
    "Also, we found release date in the future that won't be included in the analysis"
   ]
  },
  {
   "cell_type": "code",
   "execution_count": 14,
   "metadata": {},
   "outputs": [
    {
     "data": {
      "text/html": [
       "<div>\n",
       "<style scoped>\n",
       "    .dataframe tbody tr th:only-of-type {\n",
       "        vertical-align: middle;\n",
       "    }\n",
       "\n",
       "    .dataframe tbody tr th {\n",
       "        vertical-align: top;\n",
       "    }\n",
       "\n",
       "    .dataframe thead th {\n",
       "        text-align: right;\n",
       "    }\n",
       "</style>\n",
       "<table border=\"1\" class=\"dataframe\">\n",
       "  <thead>\n",
       "    <tr style=\"text-align: right;\">\n",
       "      <th></th>\n",
       "      <th>rank</th>\n",
       "      <th>title</th>\n",
       "      <th>imdb</th>\n",
       "      <th>metascore</th>\n",
       "      <th>votes</th>\n",
       "      <th>release_date</th>\n",
       "    </tr>\n",
       "  </thead>\n",
       "  <tbody>\n",
       "    <tr>\n",
       "      <th>60</th>\n",
       "      <td>61</td>\n",
       "      <td>CODA</td>\n",
       "      <td>8</td>\n",
       "      <td>74</td>\n",
       "      <td>126341</td>\n",
       "      <td>March-2022</td>\n",
       "    </tr>\n",
       "    <tr>\n",
       "      <th>81</th>\n",
       "      <td>82</td>\n",
       "      <td>Red Rocket</td>\n",
       "      <td>7.2</td>\n",
       "      <td>76</td>\n",
       "      <td>22725</td>\n",
       "      <td>March-2022</td>\n",
       "    </tr>\n",
       "  </tbody>\n",
       "</table>\n",
       "</div>"
      ],
      "text/plain": [
       "    rank       title imdb metascore   votes release_date\n",
       "60    61        CODA    8        74  126341   March-2022\n",
       "81    82  Red Rocket  7.2        76   22725   March-2022"
      ]
     },
     "execution_count": 14,
     "metadata": {},
     "output_type": "execute_result"
    }
   ],
   "source": [
    "check_itf = df['release_date'].apply(lambda x: x.split('-')[1])\n",
    "index_itf = check_itf[check_itf == '2022'].index\n",
    "\n",
    "release_itf = df.loc[index_itf]\n",
    "release_itf"
   ]
  },
  {
   "cell_type": "markdown",
   "metadata": {},
   "source": [
    "Then, we delete it"
   ]
  },
  {
   "cell_type": "code",
   "execution_count": 15,
   "metadata": {},
   "outputs": [],
   "source": [
    "df.drop(release_itf.index,axis=0, inplace=True)"
   ]
  },
  {
   "cell_type": "markdown",
   "metadata": {},
   "source": [
    "Continue to convert format of `release_date` into YYYY-MM-DD"
   ]
  },
  {
   "cell_type": "code",
   "execution_count": 16,
   "metadata": {},
   "outputs": [
    {
     "data": {
      "text/plain": [
       "rank                     int64\n",
       "title                   object\n",
       "imdb                    object\n",
       "metascore               object\n",
       "votes                   object\n",
       "release_date    datetime64[ns]\n",
       "dtype: object"
      ]
     },
     "execution_count": 16,
     "metadata": {},
     "output_type": "execute_result"
    }
   ],
   "source": [
    "import datetime\n",
    "get_day = df['release_date'].apply(lambda x : str(x.split('-')[0]).zfill(2))\n",
    "get_month = df['release_date'].apply(lambda x : x.split('-')[1])\n",
    "get_month = get_month.apply(lambda x : str(datetime.datetime.strptime(x, '%B').month).zfill(2))\n",
    "df['release_date'] = '2021-'+get_month+'-'+get_day\n",
    "df['release_date'] = df['release_date'].astype('datetime64')\n",
    "df.dtypes"
   ]
  },
  {
   "cell_type": "markdown",
   "metadata": {
    "ExecuteTime": {
     "end_time": "2020-01-13T05:12:59.165559Z",
     "start_time": "2020-01-13T05:12:58.910012Z"
    }
   },
   "source": [
    "Next, let's check if there are any missing data"
   ]
  },
  {
   "cell_type": "code",
   "execution_count": 17,
   "metadata": {},
   "outputs": [
    {
     "name": "stdout",
     "output_type": "stream",
     "text": [
      "<class 'pandas.core.frame.DataFrame'>\n",
      "Int64Index: 245 entries, 0 to 249\n",
      "Data columns (total 6 columns):\n",
      " #   Column        Non-Null Count  Dtype         \n",
      "---  ------        --------------  -----         \n",
      " 0   rank          245 non-null    int64         \n",
      " 1   title         245 non-null    object        \n",
      " 2   imdb          245 non-null    object        \n",
      " 3   metascore     245 non-null    object        \n",
      " 4   votes         245 non-null    object        \n",
      " 5   release_date  245 non-null    datetime64[ns]\n",
      "dtypes: datetime64[ns](1), int64(1), object(4)\n",
      "memory usage: 13.4+ KB\n"
     ]
    }
   ],
   "source": [
    "df.info()"
   ]
  },
  {
   "cell_type": "markdown",
   "metadata": {},
   "source": [
    "Notice previously in the looping, there are missing data in `metascore` and we assign to 0. Check in imdb's FAQ, title which doesn't have metascore is a series. In this project (based on capstone question), we only analyze movie."
   ]
  },
  {
   "cell_type": "code",
   "execution_count": 18,
   "metadata": {},
   "outputs": [
    {
     "data": {
      "text/html": [
       "<div>\n",
       "<style scoped>\n",
       "    .dataframe tbody tr th:only-of-type {\n",
       "        vertical-align: middle;\n",
       "    }\n",
       "\n",
       "    .dataframe tbody tr th {\n",
       "        vertical-align: top;\n",
       "    }\n",
       "\n",
       "    .dataframe thead th {\n",
       "        text-align: right;\n",
       "    }\n",
       "</style>\n",
       "<table border=\"1\" class=\"dataframe\">\n",
       "  <thead>\n",
       "    <tr style=\"text-align: right;\">\n",
       "      <th></th>\n",
       "      <th>rank</th>\n",
       "      <th>title</th>\n",
       "      <th>imdb</th>\n",
       "      <th>metascore</th>\n",
       "      <th>votes</th>\n",
       "      <th>release_date</th>\n",
       "    </tr>\n",
       "  </thead>\n",
       "  <tbody>\n",
       "    <tr>\n",
       "      <th>4</th>\n",
       "      <td>5</td>\n",
       "      <td>The Black Phone</td>\n",
       "      <td>7</td>\n",
       "      <td>65</td>\n",
       "      <td>113257</td>\n",
       "      <td>2021-06-24</td>\n",
       "    </tr>\n",
       "    <tr>\n",
       "      <th>9</th>\n",
       "      <td>10</td>\n",
       "      <td>Spider-Man: No Way Home</td>\n",
       "      <td>8.3</td>\n",
       "      <td>71</td>\n",
       "      <td>730503</td>\n",
       "      <td>2021-09-02</td>\n",
       "    </tr>\n",
       "    <tr>\n",
       "      <th>11</th>\n",
       "      <td>12</td>\n",
       "      <td>Dune: Part One</td>\n",
       "      <td>8</td>\n",
       "      <td>74</td>\n",
       "      <td>614482</td>\n",
       "      <td>2021-10-22</td>\n",
       "    </tr>\n",
       "    <tr>\n",
       "      <th>12</th>\n",
       "      <td>13</td>\n",
       "      <td>Licorice Pizza</td>\n",
       "      <td>7.2</td>\n",
       "      <td>90</td>\n",
       "      <td>105611</td>\n",
       "      <td>2021-03-04</td>\n",
       "    </tr>\n",
       "    <tr>\n",
       "      <th>16</th>\n",
       "      <td>17</td>\n",
       "      <td>Mona Lisa and the Blood Moon</td>\n",
       "      <td>6.2</td>\n",
       "      <td>69</td>\n",
       "      <td>1031</td>\n",
       "      <td>2021-09-30</td>\n",
       "    </tr>\n",
       "    <tr>\n",
       "      <th>...</th>\n",
       "      <td>...</td>\n",
       "      <td>...</td>\n",
       "      <td>...</td>\n",
       "      <td>...</td>\n",
       "      <td>...</td>\n",
       "      <td>...</td>\n",
       "    </tr>\n",
       "    <tr>\n",
       "      <th>230</th>\n",
       "      <td>231</td>\n",
       "      <td>The Mitchells vs the Machines</td>\n",
       "      <td>7.6</td>\n",
       "      <td>81</td>\n",
       "      <td>106953</td>\n",
       "      <td>2021-12-19</td>\n",
       "    </tr>\n",
       "    <tr>\n",
       "      <th>231</th>\n",
       "      <td>232</td>\n",
       "      <td>Till Death</td>\n",
       "      <td>5.8</td>\n",
       "      <td>66</td>\n",
       "      <td>21317</td>\n",
       "      <td>2021-07-02</td>\n",
       "    </tr>\n",
       "    <tr>\n",
       "      <th>235</th>\n",
       "      <td>236</td>\n",
       "      <td>The Rescue</td>\n",
       "      <td>8.3</td>\n",
       "      <td>84</td>\n",
       "      <td>15738</td>\n",
       "      <td>2021-01-01</td>\n",
       "    </tr>\n",
       "    <tr>\n",
       "      <th>241</th>\n",
       "      <td>242</td>\n",
       "      <td>The Dig</td>\n",
       "      <td>7.1</td>\n",
       "      <td>73</td>\n",
       "      <td>74404</td>\n",
       "      <td>2021-01-29</td>\n",
       "    </tr>\n",
       "    <tr>\n",
       "      <th>246</th>\n",
       "      <td>247</td>\n",
       "      <td>What Josiah Saw</td>\n",
       "      <td>6.2</td>\n",
       "      <td>70</td>\n",
       "      <td>1646</td>\n",
       "      <td>2021-08-04</td>\n",
       "    </tr>\n",
       "  </tbody>\n",
       "</table>\n",
       "<p>70 rows × 6 columns</p>\n",
       "</div>"
      ],
      "text/plain": [
       "     rank                          title imdb metascore   votes release_date\n",
       "4       5                The Black Phone    7        65  113257   2021-06-24\n",
       "9      10        Spider-Man: No Way Home  8.3        71  730503   2021-09-02\n",
       "11     12                 Dune: Part One    8        74  614482   2021-10-22\n",
       "12     13                 Licorice Pizza  7.2        90  105611   2021-03-04\n",
       "16     17   Mona Lisa and the Blood Moon  6.2        69    1031   2021-09-30\n",
       "..    ...                            ...  ...       ...     ...          ...\n",
       "230   231  The Mitchells vs the Machines  7.6        81  106953   2021-12-19\n",
       "231   232                     Till Death  5.8        66   21317   2021-07-02\n",
       "235   236                     The Rescue  8.3        84   15738   2021-01-01\n",
       "241   242                        The Dig  7.1        73   74404   2021-01-29\n",
       "246   247                What Josiah Saw  6.2        70    1646   2021-08-04\n",
       "\n",
       "[70 rows x 6 columns]"
      ]
     },
     "execution_count": 18,
     "metadata": {},
     "output_type": "execute_result"
    }
   ],
   "source": [
    "remove_series = df[df['metascore'] != 0]\n",
    "remove_series"
   ]
  },
  {
   "cell_type": "markdown",
   "metadata": {},
   "source": [
    "Next, we will update rank based on movies only."
   ]
  },
  {
   "cell_type": "code",
   "execution_count": 19,
   "metadata": {},
   "outputs": [
    {
     "data": {
      "text/html": [
       "<div>\n",
       "<style scoped>\n",
       "    .dataframe tbody tr th:only-of-type {\n",
       "        vertical-align: middle;\n",
       "    }\n",
       "\n",
       "    .dataframe tbody tr th {\n",
       "        vertical-align: top;\n",
       "    }\n",
       "\n",
       "    .dataframe thead th {\n",
       "        text-align: right;\n",
       "    }\n",
       "</style>\n",
       "<table border=\"1\" class=\"dataframe\">\n",
       "  <thead>\n",
       "    <tr style=\"text-align: right;\">\n",
       "      <th></th>\n",
       "      <th>rank</th>\n",
       "      <th>title</th>\n",
       "      <th>imdb</th>\n",
       "      <th>metascore</th>\n",
       "      <th>votes</th>\n",
       "      <th>release_date</th>\n",
       "    </tr>\n",
       "  </thead>\n",
       "  <tbody>\n",
       "    <tr>\n",
       "      <th>0</th>\n",
       "      <td>1</td>\n",
       "      <td>The Black Phone</td>\n",
       "      <td>7</td>\n",
       "      <td>65</td>\n",
       "      <td>113257</td>\n",
       "      <td>2021-06-24</td>\n",
       "    </tr>\n",
       "    <tr>\n",
       "      <th>1</th>\n",
       "      <td>2</td>\n",
       "      <td>Spider-Man: No Way Home</td>\n",
       "      <td>8.3</td>\n",
       "      <td>71</td>\n",
       "      <td>730503</td>\n",
       "      <td>2021-09-02</td>\n",
       "    </tr>\n",
       "    <tr>\n",
       "      <th>2</th>\n",
       "      <td>3</td>\n",
       "      <td>Dune: Part One</td>\n",
       "      <td>8</td>\n",
       "      <td>74</td>\n",
       "      <td>614482</td>\n",
       "      <td>2021-10-22</td>\n",
       "    </tr>\n",
       "    <tr>\n",
       "      <th>3</th>\n",
       "      <td>4</td>\n",
       "      <td>Licorice Pizza</td>\n",
       "      <td>7.2</td>\n",
       "      <td>90</td>\n",
       "      <td>105611</td>\n",
       "      <td>2021-03-04</td>\n",
       "    </tr>\n",
       "    <tr>\n",
       "      <th>4</th>\n",
       "      <td>5</td>\n",
       "      <td>Mona Lisa and the Blood Moon</td>\n",
       "      <td>6.2</td>\n",
       "      <td>69</td>\n",
       "      <td>1031</td>\n",
       "      <td>2021-09-30</td>\n",
       "    </tr>\n",
       "    <tr>\n",
       "      <th>...</th>\n",
       "      <td>...</td>\n",
       "      <td>...</td>\n",
       "      <td>...</td>\n",
       "      <td>...</td>\n",
       "      <td>...</td>\n",
       "      <td>...</td>\n",
       "    </tr>\n",
       "    <tr>\n",
       "      <th>65</th>\n",
       "      <td>66</td>\n",
       "      <td>The Mitchells vs the Machines</td>\n",
       "      <td>7.6</td>\n",
       "      <td>81</td>\n",
       "      <td>106953</td>\n",
       "      <td>2021-12-19</td>\n",
       "    </tr>\n",
       "    <tr>\n",
       "      <th>66</th>\n",
       "      <td>67</td>\n",
       "      <td>Till Death</td>\n",
       "      <td>5.8</td>\n",
       "      <td>66</td>\n",
       "      <td>21317</td>\n",
       "      <td>2021-07-02</td>\n",
       "    </tr>\n",
       "    <tr>\n",
       "      <th>67</th>\n",
       "      <td>68</td>\n",
       "      <td>The Rescue</td>\n",
       "      <td>8.3</td>\n",
       "      <td>84</td>\n",
       "      <td>15738</td>\n",
       "      <td>2021-01-01</td>\n",
       "    </tr>\n",
       "    <tr>\n",
       "      <th>68</th>\n",
       "      <td>69</td>\n",
       "      <td>The Dig</td>\n",
       "      <td>7.1</td>\n",
       "      <td>73</td>\n",
       "      <td>74404</td>\n",
       "      <td>2021-01-29</td>\n",
       "    </tr>\n",
       "    <tr>\n",
       "      <th>69</th>\n",
       "      <td>70</td>\n",
       "      <td>What Josiah Saw</td>\n",
       "      <td>6.2</td>\n",
       "      <td>70</td>\n",
       "      <td>1646</td>\n",
       "      <td>2021-08-04</td>\n",
       "    </tr>\n",
       "  </tbody>\n",
       "</table>\n",
       "<p>70 rows × 6 columns</p>\n",
       "</div>"
      ],
      "text/plain": [
       "    rank                          title imdb metascore   votes release_date\n",
       "0      1                The Black Phone    7        65  113257   2021-06-24\n",
       "1      2        Spider-Man: No Way Home  8.3        71  730503   2021-09-02\n",
       "2      3                 Dune: Part One    8        74  614482   2021-10-22\n",
       "3      4                 Licorice Pizza  7.2        90  105611   2021-03-04\n",
       "4      5   Mona Lisa and the Blood Moon  6.2        69    1031   2021-09-30\n",
       "..   ...                            ...  ...       ...     ...          ...\n",
       "65    66  The Mitchells vs the Machines  7.6        81  106953   2021-12-19\n",
       "66    67                     Till Death  5.8        66   21317   2021-07-02\n",
       "67    68                     The Rescue  8.3        84   15738   2021-01-01\n",
       "68    69                        The Dig  7.1        73   74404   2021-01-29\n",
       "69    70                What Josiah Saw  6.2        70    1646   2021-08-04\n",
       "\n",
       "[70 rows x 6 columns]"
      ]
     },
     "execution_count": 19,
     "metadata": {},
     "output_type": "execute_result"
    }
   ],
   "source": [
    "remove_series = remove_series.reset_index()\n",
    "remove_series['rank'] = remove_series.index+1\n",
    "movie = pd.DataFrame(remove_series,columns=col_movie)\n",
    "movie\n"
   ]
  },
  {
   "cell_type": "markdown",
   "metadata": {},
   "source": [
    "Next, we need to normalize both rating by using scale 1 to 10. \n",
    "Currently, imdb's scale is 1 to 100 and need to be normalized. \n",
    "Before normalizing, we need to change metascore and imdb's data types into numeric"
   ]
  },
  {
   "cell_type": "code",
   "execution_count": 20,
   "metadata": {},
   "outputs": [
    {
     "data": {
      "text/html": [
       "<div>\n",
       "<style scoped>\n",
       "    .dataframe tbody tr th:only-of-type {\n",
       "        vertical-align: middle;\n",
       "    }\n",
       "\n",
       "    .dataframe tbody tr th {\n",
       "        vertical-align: top;\n",
       "    }\n",
       "\n",
       "    .dataframe thead th {\n",
       "        text-align: right;\n",
       "    }\n",
       "</style>\n",
       "<table border=\"1\" class=\"dataframe\">\n",
       "  <thead>\n",
       "    <tr style=\"text-align: right;\">\n",
       "      <th></th>\n",
       "      <th>rank</th>\n",
       "      <th>title</th>\n",
       "      <th>imdb</th>\n",
       "      <th>metascore</th>\n",
       "      <th>votes</th>\n",
       "      <th>release_date</th>\n",
       "    </tr>\n",
       "  </thead>\n",
       "  <tbody>\n",
       "    <tr>\n",
       "      <th>0</th>\n",
       "      <td>1</td>\n",
       "      <td>The Black Phone</td>\n",
       "      <td>7.0</td>\n",
       "      <td>6.5</td>\n",
       "      <td>113257</td>\n",
       "      <td>2021-06-24</td>\n",
       "    </tr>\n",
       "    <tr>\n",
       "      <th>1</th>\n",
       "      <td>2</td>\n",
       "      <td>Spider-Man: No Way Home</td>\n",
       "      <td>8.3</td>\n",
       "      <td>7.1</td>\n",
       "      <td>730503</td>\n",
       "      <td>2021-09-02</td>\n",
       "    </tr>\n",
       "    <tr>\n",
       "      <th>2</th>\n",
       "      <td>3</td>\n",
       "      <td>Dune: Part One</td>\n",
       "      <td>8.0</td>\n",
       "      <td>7.4</td>\n",
       "      <td>614482</td>\n",
       "      <td>2021-10-22</td>\n",
       "    </tr>\n",
       "    <tr>\n",
       "      <th>3</th>\n",
       "      <td>4</td>\n",
       "      <td>Licorice Pizza</td>\n",
       "      <td>7.2</td>\n",
       "      <td>9.0</td>\n",
       "      <td>105611</td>\n",
       "      <td>2021-03-04</td>\n",
       "    </tr>\n",
       "    <tr>\n",
       "      <th>4</th>\n",
       "      <td>5</td>\n",
       "      <td>Mona Lisa and the Blood Moon</td>\n",
       "      <td>6.2</td>\n",
       "      <td>6.9</td>\n",
       "      <td>1031</td>\n",
       "      <td>2021-09-30</td>\n",
       "    </tr>\n",
       "    <tr>\n",
       "      <th>5</th>\n",
       "      <td>6</td>\n",
       "      <td>No Time to Die</td>\n",
       "      <td>7.3</td>\n",
       "      <td>6.8</td>\n",
       "      <td>390311</td>\n",
       "      <td>2021-01-21</td>\n",
       "    </tr>\n",
       "    <tr>\n",
       "      <th>6</th>\n",
       "      <td>7</td>\n",
       "      <td>The Matrix Resurrections</td>\n",
       "      <td>5.7</td>\n",
       "      <td>6.3</td>\n",
       "      <td>243272</td>\n",
       "      <td>2021-12-22</td>\n",
       "    </tr>\n",
       "  </tbody>\n",
       "</table>\n",
       "</div>"
      ],
      "text/plain": [
       "   rank                         title  imdb  metascore   votes release_date\n",
       "0     1               The Black Phone   7.0        6.5  113257   2021-06-24\n",
       "1     2       Spider-Man: No Way Home   8.3        7.1  730503   2021-09-02\n",
       "2     3                Dune: Part One   8.0        7.4  614482   2021-10-22\n",
       "3     4                Licorice Pizza   7.2        9.0  105611   2021-03-04\n",
       "4     5  Mona Lisa and the Blood Moon   6.2        6.9    1031   2021-09-30\n",
       "5     6                No Time to Die   7.3        6.8  390311   2021-01-21\n",
       "6     7      The Matrix Resurrections   5.7        6.3  243272   2021-12-22"
      ]
     },
     "execution_count": 20,
     "metadata": {},
     "output_type": "execute_result"
    }
   ],
   "source": [
    "movie[['imdb','metascore']] = movie[['imdb','metascore']].astype('float64')\n",
    "movie[['votes']] = movie[['votes']].astype('int64')\n",
    "\n",
    "movie['metascore'] = movie['metascore'] / 10\n",
    "movie['metascore'] = movie['metascore'].round(1)\n",
    "movie.head(7)"
   ]
  },
  {
   "cell_type": "markdown",
   "metadata": {},
   "source": [
    "## Finishing This Notebook with Your Analysis and Conclusion\n",
    "\n"
   ]
  },
  {
   "cell_type": "markdown",
   "metadata": {},
   "source": [
    "First, let's plot 7 popular movie by ranking. Since default data already sort by `rank`, we can directly get 7 title from the top"
   ]
  },
  {
   "cell_type": "code",
   "execution_count": 21,
   "metadata": {},
   "outputs": [],
   "source": [
    "movie['rank_title'] = movie[['title','rank']].apply(lambda x : ' (rank '.join(x.astype('str').values),axis=1) + ')'\n",
    "topby_rank = movie.head(7)"
   ]
  },
  {
   "cell_type": "code",
   "execution_count": 22,
   "metadata": {},
   "outputs": [
    {
     "data": {
      "text/plain": [
       "<matplotlib.legend.Legend at 0x21bc33bd5e0>"
      ]
     },
     "execution_count": 22,
     "metadata": {},
     "output_type": "execute_result"
    },
    {
     "data": {
      "text/plain": [
       "<Figure size 640x480 with 0 Axes>"
      ]
     },
     "metadata": {},
     "output_type": "display_data"
    },
    {
     "data": {
      "image/png": "[encoded data removed]",
      "text/plain": [
       "<Figure size 640x480 with 1 Axes>"
      ]
     },
     "metadata": {},
     "output_type": "display_data"
    }
   ],
   "source": [
    "import matplotlib.pyplot as plt\n",
    "import numpy as np\n",
    "plt.clf()\n",
    "fig, ax = plt.subplots()\n",
    "width = 0.2 \n",
    "x = np.arange(topby_rank['title'].size)\n",
    "\n",
    "ax.barh(x, topby_rank['imdb'], width, color='#000080', label='imdb')\n",
    "ax.barh(x + width, topby_rank['metascore'], width, color='#0F52BA', label='metascore')\n",
    "ax.set_yticks(x + width - (width/2))\n",
    "ax.set_yticklabels(topby_rank['rank_title'] )\n",
    "ax.set_xlabel('ratings')\n",
    "ax.legend() \n"
   ]
  },
  {
   "cell_type": "markdown",
   "metadata": {},
   "source": [
    "Next, let's plot 7 popularity based on imdb rating and metascore\n"
   ]
  },
  {
   "cell_type": "code",
   "execution_count": 23,
   "metadata": {},
   "outputs": [
    {
     "data": {
      "text/plain": [
       "Text(0.5, 0, 'ratings')"
      ]
     },
     "execution_count": 23,
     "metadata": {},
     "output_type": "execute_result"
    },
    {
     "data": {
      "image/png": "[encoded data removed]",
      "text/plain": [
       "<Figure size 640x480 with 1 Axes>"
      ]
     },
     "metadata": {},
     "output_type": "display_data"
    }
   ],
   "source": [
    "topby_imdb=movie.sort_values('imdb',ascending=False).head(7)\n",
    "# topby_imdb.plot.barh(x='title',y='imdb')\n",
    "plt.clf()\n",
    "plt.barh(topby_imdb['rank_title'],topby_imdb['imdb'])\n",
    "plt.xlabel('ratings')"
   ]
  },
  {
   "cell_type": "code",
   "execution_count": 24,
   "metadata": {},
   "outputs": [
    {
     "data": {
      "text/plain": [
       "Text(0.5, 0, 'ratings')"
      ]
     },
     "execution_count": 24,
     "metadata": {},
     "output_type": "execute_result"
    },
    {
     "data": {
      "image/png": "[encoded data removed]",
      "text/plain": [
       "<Figure size 640x480 with 1 Axes>"
      ]
     },
     "metadata": {},
     "output_type": "display_data"
    }
   ],
   "source": [
    "topby_ms=movie.sort_values('metascore',ascending=False).head(7)\n",
    "# topby_ms.plot.barh(x='title',y='metascore')\n",
    "plt.clf()\n",
    "plt.barh(topby_ms['rank_title'],topby_ms['metascore'])\n",
    "plt.xlabel('ratings')"
   ]
  },
  {
   "cell_type": "markdown",
   "metadata": {},
   "source": [
    "Data above shows that popularity by imdb is not based on imdb rating or metascore. We will check imdb FAQ (source: [sort by MOVIEmeter](https://help.imdb.com/article/imdbpro/industry-research/starmeter-moviemeter-and-companymeter-faq/GSPB7HDNPKVT5VHC?ref_=helpsrall#))."
   ]
  },
  {
   "cell_type": "markdown",
   "metadata": {},
   "source": [
    "Generally, imdb counts how many pageview from each title and addition with undisclosed algorithm to neutralize user who 'rig' the system."
   ]
  },
  {
   "cell_type": "markdown",
   "metadata": {},
   "source": [
    "Then, let's find correlations between ranking and others:"
   ]
  },
  {
   "cell_type": "code",
   "execution_count": 63,
   "metadata": {},
   "outputs": [
    {
     "data": {
      "text/plain": [
       "Text(0.5, 0, 'imdb ratings')"
      ]
     },
     "execution_count": 63,
     "metadata": {},
     "output_type": "execute_result"
    },
    {
     "data": {
      "image/png": "[encoded data removed]",
      "text/plain": [
       "<Figure size 640x480 with 1 Axes>"
      ]
     },
     "metadata": {},
     "output_type": "display_data"
    }
   ],
   "source": [
    "# movie.plot.scatter(x='rank',y='imdb')\n",
    "plt.clf()\n",
    "plt.scatter(movie['imdb'],movie['rank'])\n",
    "plt.ylabel('rank')\n",
    "plt.xlabel('imdb ratings')"
   ]
  },
  {
   "cell_type": "code",
   "execution_count": 64,
   "metadata": {},
   "outputs": [
    {
     "data": {
      "text/plain": [
       "Text(0.5, 0, 'metascore ratings')"
      ]
     },
     "execution_count": 64,
     "metadata": {},
     "output_type": "execute_result"
    },
    {
     "data": {
      "image/png": "[encoded data removed]",
      "text/plain": [
       "<Figure size 640x480 with 1 Axes>"
      ]
     },
     "metadata": {},
     "output_type": "display_data"
    }
   ],
   "source": [
    "movie.plot.scatter(x='rank',y='metascore')\n",
    "plt.clf()\n",
    "plt.scatter(movie['metascore'],movie['rank'])\n",
    "plt.ylabel('rank')\n",
    "plt.xlabel('metascore ratings')"
   ]
  },
  {
   "cell_type": "markdown",
   "metadata": {},
   "source": [
    "Both scatterplot, neither imdb rating or metascore have correlation with ranking."
   ]
  },
  {
   "cell_type": "markdown",
   "metadata": {},
   "source": [
    "For further analysis, we will utilize `votes`, `release_date` and take into account the imdb rating. Based on [imdb rating's FAQ](https://help.imdb.com/article/imdb/track-movies-tv/weighted-average-ratings/GWT2DSBYVT2F25SK?ref_=helpart_nav_8#), votes already used as 'weight' into imdb rating, so we won't use `votes`."
   ]
  },
  {
   "cell_type": "markdown",
   "metadata": {},
   "source": [
    "How about `release_date` ? let's make correlation with ranking:"
   ]
  },
  {
   "cell_type": "code",
   "execution_count": 73,
   "metadata": {},
   "outputs": [
    {
     "name": "stderr",
     "output_type": "stream",
     "text": [
      "C:\\Users\\62857\\AppData\\Local\\Temp\\ipykernel_25540\\2920502036.py:5: UserWarning: FixedFormatter should only be used together with FixedLocator\n",
      "  ax.set_xticklabels(['2021-01','2021-03','2021-05','2021-07','2021-09','2021-11','2021-12-31'])\n"
     ]
    },
    {
     "data": {
      "text/plain": [
       "Text(0, 0.5, 'ranks')"
      ]
     },
     "execution_count": 73,
     "metadata": {},
     "output_type": "execute_result"
    },
    {
     "data": {
      "text/plain": [
       "<Figure size 640x480 with 0 Axes>"
      ]
     },
     "metadata": {},
     "output_type": "display_data"
    },
    {
     "data": {
      "image/png": "[encoded data removed]",
      "text/plain": [
       "<Figure size 640x480 with 1 Axes>"
      ]
     },
     "metadata": {},
     "output_type": "display_data"
    }
   ],
   "source": [
    "# movie.plot.scatter(x='rank',y='release_date')\n",
    "plt.clf()\n",
    "fig, ax = plt.subplots()\n",
    "ax.scatter(movie['release_date'],movie['rank'])\n",
    "ax.set_xticklabels(['2021-01','2021-03','2021-05','2021-07','2021-09','2021-11','2021-12'])\n",
    "ax.set_xlabel('release date')\n",
    "ax.set_ylabel('ranks')"
   ]
  },
  {
   "cell_type": "markdown",
   "metadata": {},
   "source": [
    "Nor release date also doesn't have correlation with ranking."
   ]
  },
  {
   "cell_type": "markdown",
   "metadata": {},
   "source": [
    "We conclude that imdb rating, metascore and release date doesn't have any correlation with popularity."
   ]
  },
  {
   "cell_type": "markdown",
   "metadata": {},
   "source": [
    "***"
   ]
  },
  {
   "cell_type": "markdown",
   "metadata": {},
   "source": [
    "For additional analysis, imdb and metascore rating will be compared using `hist()`"
   ]
  },
  {
   "cell_type": "code",
   "execution_count": 32,
   "metadata": {
    "ExecuteTime": {
     "end_time": "2020-01-13T05:20:56.208237Z",
     "start_time": "2020-01-13T05:20:56.076043Z"
    }
   },
   "outputs": [
    {
     "data": {
      "text/plain": [
       "array([[<AxesSubplot:title={'center':'imdb'}>,\n",
       "        <AxesSubplot:title={'center':'metascore'}>]], dtype=object)"
      ]
     },
     "execution_count": 32,
     "metadata": {},
     "output_type": "execute_result"
    },
    {
     "data": {
      "image/png": "[encoded data removed]",
      "text/plain": [
       "<Figure size 640x480 with 2 Axes>"
      ]
     },
     "metadata": {},
     "output_type": "display_data"
    }
   ],
   "source": [
    "hist_imdb_ms = movie[['imdb','metascore']]\n",
    "hist_imdb_ms.hist()"
   ]
  },
  {
   "cell_type": "markdown",
   "metadata": {},
   "source": [
    "Based on both histogram, metascore resembles more as normal distribution. It has more bars around lowest and highest rating area.\n",
    "In imdb's histogram, distribution tend to average area (x-axis between 6 and 8). \n",
    "<br><br>\n",
    "metascore is review from leading critics which is reviewer more filtered than imdb. \n",
    "<br><br>\n",
    "Conclusion, metascore rating is better suited to movie enthusiast (considering all aspect of movie)."
   ]
  }
 ],
 "metadata": {
  "kernelspec": {
   "display_name": "python_38",
   "language": "python",
   "name": "python_38"
  },
  "language_info": {
   "codemirror_mode": {
    "name": "ipython",
    "version": 3
   },
   "file_extension": ".py",
   "mimetype": "text/x-python",
   "name": "python",
   "nbconvert_exporter": "python",
   "pygments_lexer": "ipython3",
   "version": "3.8.13"
  }
 },
 "nbformat": 4,
 "nbformat_minor": 2
}
